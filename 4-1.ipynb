{
 "cells": [
  {
   "cell_type": "markdown",
   "source": [
    "# 로지스틱 회귀"
   ],
   "metadata": {
    "id": "LlS4gyYqJVpn"
   }
  },
  {
   "cell_type": "markdown",
   "source": [
    "<table align=\"left\">\n",
    "  <td>\n",
    "    <a target=\"_blank\" href=\"https://colab.research.google.com/github/rickiepark/hg-mldl/blob/master/4-1.ipynb\"><img src=\"https://www.tensorflow.org/images/colab_logo_32px.png\" />구글 코랩에서 실행하기</a>\n",
    "  </td>\n",
    "</table>"
   ],
   "metadata": {
    "id": "m9MHDgx2JVpv"
   }
  },
  {
   "cell_type": "markdown",
   "source": [
    "## 럭키백의 확률"
   ],
   "metadata": {
    "id": "tQBDVUjBbIsL"
   }
  },
  {
   "cell_type": "markdown",
   "source": [
    "### 데이터 준비하기"
   ],
   "metadata": {
    "id": "ILi_LPl9JVpw"
   }
  },
  {
   "cell_type": "code",
   "execution_count": 1,
   "source": [
    "import pandas as pd\n",
    "\n",
    "fish = pd.read_csv('https://bit.ly/fish_csv_data')\n",
    "fish.head()"
   ],
   "outputs": [
    {
     "output_type": "execute_result",
     "data": {
      "text/plain": [
       "  Species  Weight  Length  Diagonal   Height   Width\n",
       "0   Bream   242.0    25.4      30.0  11.5200  4.0200\n",
       "1   Bream   290.0    26.3      31.2  12.4800  4.3056\n",
       "2   Bream   340.0    26.5      31.1  12.3778  4.6961\n",
       "3   Bream   363.0    29.0      33.5  12.7300  4.4555\n",
       "4   Bream   430.0    29.0      34.0  12.4440  5.1340"
      ],
      "text/html": [
       "<div>\n",
       "<style scoped>\n",
       "    .dataframe tbody tr th:only-of-type {\n",
       "        vertical-align: middle;\n",
       "    }\n",
       "\n",
       "    .dataframe tbody tr th {\n",
       "        vertical-align: top;\n",
       "    }\n",
       "\n",
       "    .dataframe thead th {\n",
       "        text-align: right;\n",
       "    }\n",
       "</style>\n",
       "<table border=\"1\" class=\"dataframe\">\n",
       "  <thead>\n",
       "    <tr style=\"text-align: right;\">\n",
       "      <th></th>\n",
       "      <th>Species</th>\n",
       "      <th>Weight</th>\n",
       "      <th>Length</th>\n",
       "      <th>Diagonal</th>\n",
       "      <th>Height</th>\n",
       "      <th>Width</th>\n",
       "    </tr>\n",
       "  </thead>\n",
       "  <tbody>\n",
       "    <tr>\n",
       "      <th>0</th>\n",
       "      <td>Bream</td>\n",
       "      <td>242.0</td>\n",
       "      <td>25.4</td>\n",
       "      <td>30.0</td>\n",
       "      <td>11.5200</td>\n",
       "      <td>4.0200</td>\n",
       "    </tr>\n",
       "    <tr>\n",
       "      <th>1</th>\n",
       "      <td>Bream</td>\n",
       "      <td>290.0</td>\n",
       "      <td>26.3</td>\n",
       "      <td>31.2</td>\n",
       "      <td>12.4800</td>\n",
       "      <td>4.3056</td>\n",
       "    </tr>\n",
       "    <tr>\n",
       "      <th>2</th>\n",
       "      <td>Bream</td>\n",
       "      <td>340.0</td>\n",
       "      <td>26.5</td>\n",
       "      <td>31.1</td>\n",
       "      <td>12.3778</td>\n",
       "      <td>4.6961</td>\n",
       "    </tr>\n",
       "    <tr>\n",
       "      <th>3</th>\n",
       "      <td>Bream</td>\n",
       "      <td>363.0</td>\n",
       "      <td>29.0</td>\n",
       "      <td>33.5</td>\n",
       "      <td>12.7300</td>\n",
       "      <td>4.4555</td>\n",
       "    </tr>\n",
       "    <tr>\n",
       "      <th>4</th>\n",
       "      <td>Bream</td>\n",
       "      <td>430.0</td>\n",
       "      <td>29.0</td>\n",
       "      <td>34.0</td>\n",
       "      <td>12.4440</td>\n",
       "      <td>5.1340</td>\n",
       "    </tr>\n",
       "  </tbody>\n",
       "</table>\n",
       "</div>"
      ]
     },
     "metadata": {},
     "execution_count": 1
    }
   ],
   "metadata": {
    "colab": {
     "base_uri": "https://localhost:8080/",
     "height": 204
    },
    "id": "Mba6QeEmLn3r",
    "outputId": "0e6132fe-0404-404c-8fbf-b28b5e870fce"
   }
  },
  {
   "cell_type": "code",
   "execution_count": 2,
   "source": [
    "print(pd.unique(fish['Species']))"
   ],
   "outputs": [
    {
     "output_type": "stream",
     "name": "stdout",
     "text": [
      "['Bream' 'Roach' 'Whitefish' 'Parkki' 'Perch' 'Pike' 'Smelt']\n"
     ]
    }
   ],
   "metadata": {
    "colab": {
     "base_uri": "https://localhost:8080/"
    },
    "id": "UWJWlRCHVWUg",
    "outputId": "12bcd63a-21f3-4b00-ae83-101f9f98c849"
   }
  },
  {
   "cell_type": "code",
   "execution_count": 3,
   "source": [
    "fish_input = fish[['Weight','Length','Diagonal','Height','Width']].to_numpy()"
   ],
   "outputs": [],
   "metadata": {
    "id": "8JjMXc9wVE7C"
   }
  },
  {
   "cell_type": "code",
   "execution_count": 4,
   "source": [
    "print(fish_input[:5])"
   ],
   "outputs": [
    {
     "output_type": "stream",
     "name": "stdout",
     "text": [
      "[[242.      25.4     30.      11.52     4.02  ]\n",
      " [290.      26.3     31.2     12.48     4.3056]\n",
      " [340.      26.5     31.1     12.3778   4.6961]\n",
      " [363.      29.      33.5     12.73     4.4555]\n",
      " [430.      29.      34.      12.444    5.134 ]]\n"
     ]
    }
   ],
   "metadata": {
    "colab": {
     "base_uri": "https://localhost:8080/"
    },
    "id": "1T6C1d5iMzb8",
    "outputId": "e4ff2e5f-821e-4c2b-e50f-1b9b03486684",
    "scrolled": true
   }
  },
  {
   "cell_type": "code",
   "execution_count": 5,
   "source": [
    "fish_target = fish['Species'].to_numpy()"
   ],
   "outputs": [],
   "metadata": {
    "id": "aB2oHhojTfWE"
   }
  },
  {
   "cell_type": "code",
   "execution_count": 6,
   "source": [
    "from sklearn.model_selection import train_test_split\n",
    "\n",
    "train_input, test_input, train_target, test_target = train_test_split(\n",
    "    fish_input, fish_target, random_state=42)"
   ],
   "outputs": [],
   "metadata": {
    "id": "dkllezAJW63K"
   }
  },
  {
   "cell_type": "code",
   "execution_count": 7,
   "source": [
    "from sklearn.preprocessing import StandardScaler\r\n",
    "\r\n",
    "ss = StandardScaler()\r\n",
    "ss.fit(train_input)\r\n",
    "train_scaled = ss.transform(train_input)\r\n",
    "test_scaled = ss.transform(test_input)"
   ],
   "outputs": [],
   "metadata": {
    "id": "H0ujq0BjXpfp"
   }
  },
  {
   "cell_type": "markdown",
   "source": [
    "### k-최근접 이웃 분류기의 확률 예측"
   ],
   "metadata": {
    "id": "oAxk-V5kQcgc"
   }
  },
  {
   "cell_type": "code",
   "execution_count": 8,
   "source": [
    "from sklearn.neighbors import KNeighborsClassifier\r\n",
    "\r\n",
    "kn = KNeighborsClassifier(n_neighbors=3)\r\n",
    "kn.fit(train_scaled, train_target)\r\n",
    "\r\n",
    "print(kn.score(train_scaled, train_target))\r\n",
    "print(kn.score(test_scaled, test_target))"
   ],
   "outputs": [
    {
     "output_type": "stream",
     "name": "stdout",
     "text": [
      "0.8907563025210085\n",
      "0.85\n"
     ]
    }
   ],
   "metadata": {
    "colab": {
     "base_uri": "https://localhost:8080/"
    },
    "id": "BYWTNPOdXOfr",
    "outputId": "b9b209bc-0331-4a53-9a33-3a0abb8e5108"
   }
  },
  {
   "cell_type": "code",
   "execution_count": 9,
   "source": [
    "print(kn.classes_)"
   ],
   "outputs": [
    {
     "output_type": "stream",
     "name": "stdout",
     "text": [
      "['Bream' 'Parkki' 'Perch' 'Pike' 'Roach' 'Smelt' 'Whitefish']\n"
     ]
    }
   ],
   "metadata": {
    "colab": {
     "base_uri": "https://localhost:8080/"
    },
    "id": "a879-O42RhFO",
    "outputId": "8670d6db-7692-416d-a78b-445c6f3ecfc0"
   }
  },
  {
   "cell_type": "code",
   "execution_count": 10,
   "source": [
    "print(kn.predict(test_scaled[:5]))"
   ],
   "outputs": [
    {
     "output_type": "stream",
     "name": "stdout",
     "text": [
      "['Perch' 'Smelt' 'Pike' 'Perch' 'Perch']\n"
     ]
    }
   ],
   "metadata": {
    "colab": {
     "base_uri": "https://localhost:8080/"
    },
    "id": "EucmtF8HVOS_",
    "outputId": "bf8c96fb-6790-4fd8-ce66-1f531070129a"
   }
  },
  {
   "cell_type": "code",
   "execution_count": 11,
   "source": [
    "import numpy as np\r\n",
    "\r\n",
    "proba = kn.predict_proba(test_scaled[:5])\r\n",
    "print(np.round(proba, decimals=4))"
   ],
   "outputs": [
    {
     "output_type": "stream",
     "name": "stdout",
     "text": [
      "[[0.     0.     1.     0.     0.     0.     0.    ]\n",
      " [0.     0.     0.     0.     0.     1.     0.    ]\n",
      " [0.     0.     0.     1.     0.     0.     0.    ]\n",
      " [0.     0.     0.6667 0.     0.3333 0.     0.    ]\n",
      " [0.     0.     0.6667 0.     0.3333 0.     0.    ]]\n"
     ]
    }
   ],
   "metadata": {
    "colab": {
     "base_uri": "https://localhost:8080/"
    },
    "id": "OSDr8WSKXbUa",
    "outputId": "627f6ba0-1c2d-483a-a9db-13f53df4d6ac"
   }
  },
  {
   "cell_type": "code",
   "execution_count": 12,
   "source": [
    "distances, indexes = kn.kneighbors(test_scaled[3:4])\r\n",
    "print(train_target[indexes])"
   ],
   "outputs": [
    {
     "output_type": "stream",
     "name": "stdout",
     "text": [
      "[['Roach' 'Perch' 'Perch']]\n"
     ]
    }
   ],
   "metadata": {
    "colab": {
     "base_uri": "https://localhost:8080/"
    },
    "id": "Hk-ywsfKkf7t",
    "outputId": "92326fa0-d6f6-40b5-f4a1-92fe0ea73c81"
   }
  },
  {
   "cell_type": "markdown",
   "source": [
    "## 로지스틱 회귀"
   ],
   "metadata": {
    "id": "Q9_wuI_0tEqL"
   }
  },
  {
   "cell_type": "code",
   "execution_count": 13,
   "source": [
    "import numpy as np\r\n",
    "import matplotlib.pyplot as plt\r\n",
    "\r\n",
    "z = np.arange(-5, 5, 0.1)\r\n",
    "phi = 1 / (1 + np.exp(-z))\r\n",
    "\r\n",
    "plt.plot(z, phi)\r\n",
    "plt.xlabel('z')\r\n",
    "plt.ylabel('phi')\r\n",
    "plt.show()"
   ],
   "outputs": [
    {
     "output_type": "display_data",
     "data": {
      "text/plain": [
       "<Figure size 432x288 with 1 Axes>"
      ],
      "image/png": "[encoded data removed]"
     },
     "metadata": {
      "needs_background": "light"
     }
    }
   ],
   "metadata": {
    "colab": {
     "base_uri": "https://localhost:8080/",
     "height": 279
    },
    "id": "8rdDSaZ5uji2",
    "outputId": "34531e78-efc6-45ec-e4a1-8b8b4e0c61b5"
   }
  },
  {
   "cell_type": "markdown",
   "source": [
    "### 로지스틱 회귀로 이진 분류 수행하기"
   ],
   "metadata": {
    "id": "1J6LGKpUJbFE"
   }
  },
  {
   "cell_type": "code",
   "execution_count": 14,
   "source": [
    "char_arr = np.array(['A', 'B', 'C', 'D', 'E'])\r\n",
    "print(char_arr[[True, False, True, False, False]])"
   ],
   "outputs": [
    {
     "output_type": "stream",
     "name": "stdout",
     "text": [
      "['A' 'C']\n"
     ]
    }
   ],
   "metadata": {
    "colab": {
     "base_uri": "https://localhost:8080/"
    },
    "id": "JeR5cA_fIe24",
    "outputId": "0c90e726-e1d6-4548-b900-9c6baf267ffd"
   }
  },
  {
   "cell_type": "code",
   "execution_count": 15,
   "source": [
    "bream_smelt_indexes = (train_target == 'Bream') | (train_target == 'Smelt')\r\n",
    "train_bream_smelt = train_scaled[bream_smelt_indexes]\r\n",
    "target_bream_smelt = train_target[bream_smelt_indexes]"
   ],
   "outputs": [],
   "metadata": {
    "id": "Khxh-3t5-2Tk"
   }
  },
  {
   "cell_type": "code",
   "execution_count": 16,
   "source": [
    "from sklearn.linear_model import LogisticRegression\r\n",
    "\r\n",
    "lr = LogisticRegression()\r\n",
    "lr.fit(train_bream_smelt, target_bream_smelt)"
   ],
   "outputs": [
    {
     "output_type": "execute_result",
     "data": {
      "text/plain": [
       "LogisticRegression()"
      ]
     },
     "metadata": {},
     "execution_count": 16
    }
   ],
   "metadata": {
    "colab": {
     "base_uri": "https://localhost:8080/"
    },
    "id": "jEzP0aeXANra",
    "outputId": "2e73610b-6d2e-48fe-cd23-1e5f29d6d8ad"
   }
  },
  {
   "cell_type": "code",
   "execution_count": 17,
   "source": [
    "print(lr.predict(train_bream_smelt[:5]))"
   ],
   "outputs": [
    {
     "output_type": "stream",
     "name": "stdout",
     "text": [
      "['Bream' 'Smelt' 'Bream' 'Bream' 'Bream']\n"
     ]
    }
   ],
   "metadata": {
    "colab": {
     "base_uri": "https://localhost:8080/"
    },
    "id": "VtEWtsB7EIgm",
    "outputId": "604d2478-331c-4231-dd9d-f09216308ab9"
   }
  },
  {
   "cell_type": "code",
   "execution_count": 18,
   "source": [
    "print(lr.predict_proba(train_bream_smelt[:5]))"
   ],
   "outputs": [
    {
     "output_type": "stream",
     "name": "stdout",
     "text": [
      "[[0.99759855 0.00240145]\n",
      " [0.02735183 0.97264817]\n",
      " [0.99486072 0.00513928]\n",
      " [0.98584202 0.01415798]\n",
      " [0.99767269 0.00232731]]\n"
     ]
    }
   ],
   "metadata": {
    "colab": {
     "base_uri": "https://localhost:8080/"
    },
    "id": "3H_qieV-_CTt",
    "outputId": "a5f9ba31-c408-48d2-8231-31ddfdb9ea4a"
   }
  },
  {
   "cell_type": "code",
   "execution_count": 19,
   "source": [
    "print(lr.classes_)"
   ],
   "outputs": [
    {
     "output_type": "stream",
     "name": "stdout",
     "text": [
      "['Bream' 'Smelt']\n"
     ]
    }
   ],
   "metadata": {
    "colab": {
     "base_uri": "https://localhost:8080/"
    },
    "id": "Mm60bpr7EQKU",
    "outputId": "77267b3d-69d7-42e5-9dc8-a44f652cc06f"
   }
  },
  {
   "cell_type": "code",
   "execution_count": 20,
   "source": [
    "print(lr.coef_, lr.intercept_)"
   ],
   "outputs": [
    {
     "output_type": "stream",
     "name": "stdout",
     "text": [
      "[[-0.4037798  -0.57620209 -0.66280298 -1.01290277 -0.73168947]] [-2.16155132]\n"
     ]
    }
   ],
   "metadata": {
    "colab": {
     "base_uri": "https://localhost:8080/"
    },
    "id": "1mvoYhUVQmFY",
    "outputId": "265ed14d-106d-4675-ee81-51b826175992"
   }
  },
  {
   "cell_type": "code",
   "execution_count": 21,
   "source": [
    "decisions = lr.decision_function(train_bream_smelt[:5])\n",
    "print(decisions)"
   ],
   "outputs": [
    {
     "output_type": "stream",
     "name": "stdout",
     "text": [
      "[-6.02927744  3.57123907 -5.26568906 -4.24321775 -6.0607117 ]\n"
     ]
    }
   ],
   "metadata": {
    "colab": {
     "base_uri": "https://localhost:8080/"
    },
    "id": "SxrRy9m8A5Hy",
    "outputId": "bf42de57-9f93-4f4b-fc1a-a04eb19be25d"
   }
  },
  {
   "cell_type": "code",
   "execution_count": 22,
   "source": [
    "from scipy.special import expit\n",
    "\n",
    "print(expit(decisions))"
   ],
   "outputs": [
    {
     "output_type": "stream",
     "name": "stdout",
     "text": [
      "[0.00240145 0.97264817 0.00513928 0.01415798 0.00232731]\n"
     ]
    }
   ],
   "metadata": {
    "colab": {
     "base_uri": "https://localhost:8080/"
    },
    "id": "SeuhSRuiA9yZ",
    "outputId": "f70c9be9-54df-48e3-e0d7-752cb47a17d7"
   }
  },
  {
   "cell_type": "markdown",
   "source": [
    "### 로지스틱 회귀로 다중 분류 수행하기"
   ],
   "metadata": {
    "id": "6ee-s4l7EuVo"
   }
  },
  {
   "cell_type": "code",
   "execution_count": 23,
   "source": [
    "lr = LogisticRegression(C=20, max_iter=1000)\n",
    "lr.fit(train_scaled, train_target)\n",
    "\n",
    "print(lr.score(train_scaled, train_target))\n",
    "print(lr.score(test_scaled, test_target))"
   ],
   "outputs": [
    {
     "output_type": "stream",
     "name": "stdout",
     "text": [
      "0.9327731092436975\n",
      "0.925\n"
     ]
    }
   ],
   "metadata": {
    "colab": {
     "base_uri": "https://localhost:8080/"
    },
    "id": "7QugsbD2X8bf",
    "outputId": "9d2a151d-ec02-4127-f68a-8a82ff8be318"
   }
  },
  {
   "cell_type": "code",
   "execution_count": 24,
   "source": [
    "print(lr.predict(test_scaled[:5]))"
   ],
   "outputs": [
    {
     "output_type": "stream",
     "name": "stdout",
     "text": [
      "['Perch' 'Smelt' 'Pike' 'Roach' 'Perch']\n"
     ]
    }
   ],
   "metadata": {
    "colab": {
     "base_uri": "https://localhost:8080/"
    },
    "id": "0taO0XnF9dha",
    "outputId": "f9e92d6e-5eef-4fc7-a962-847f83b3d2ad"
   }
  },
  {
   "cell_type": "code",
   "execution_count": 25,
   "source": [
    "proba = lr.predict_proba(test_scaled[:5])\n",
    "print(np.round(proba, decimals=3))"
   ],
   "outputs": [
    {
     "output_type": "stream",
     "name": "stdout",
     "text": [
      "[[0.    0.014 0.841 0.    0.136 0.007 0.003]\n",
      " [0.    0.003 0.044 0.    0.007 0.946 0.   ]\n",
      " [0.    0.    0.034 0.935 0.015 0.016 0.   ]\n",
      " [0.011 0.034 0.306 0.007 0.567 0.    0.076]\n",
      " [0.    0.    0.904 0.002 0.089 0.002 0.001]]\n"
     ]
    }
   ],
   "metadata": {
    "colab": {
     "base_uri": "https://localhost:8080/"
    },
    "id": "pqZosYezZOi3",
    "outputId": "d4bc2673-e966-4933-81ec-1a26b3d83a8d"
   }
  },
  {
   "cell_type": "code",
   "execution_count": 26,
   "source": [
    "print(lr.classes_)"
   ],
   "outputs": [
    {
     "output_type": "stream",
     "name": "stdout",
     "text": [
      "['Bream' 'Parkki' 'Perch' 'Pike' 'Roach' 'Smelt' 'Whitefish']\n"
     ]
    }
   ],
   "metadata": {
    "colab": {
     "base_uri": "https://localhost:8080/"
    },
    "id": "CXASv4WU87UF",
    "outputId": "f65f2234-5fe4-4d6c-a9ab-08627c730fbf"
   }
  },
  {
   "cell_type": "code",
   "execution_count": 27,
   "source": [
    "print(lr.coef_.shape, lr.intercept_.shape)"
   ],
   "outputs": [
    {
     "output_type": "stream",
     "name": "stdout",
     "text": [
      "(7, 5) (7,)\n"
     ]
    }
   ],
   "metadata": {
    "colab": {
     "base_uri": "https://localhost:8080/"
    },
    "id": "1swPv6ZOZTjg",
    "outputId": "bb129ce3-7500-4df2-dede-c06cdfe22041"
   }
  },
  {
   "cell_type": "code",
   "execution_count": 28,
   "source": [
    "decision = lr.decision_function(test_scaled[:5])\n",
    "print(np.round(decision, decimals=2))"
   ],
   "outputs": [
    {
     "output_type": "stream",
     "name": "stdout",
     "text": [
      "[[ -6.5    1.03   5.16  -2.73   3.34   0.33  -0.63]\n",
      " [-10.86   1.93   4.77  -2.4    2.98   7.84  -4.26]\n",
      " [ -4.34  -6.23   3.17   6.49   2.36   2.42  -3.87]\n",
      " [ -0.68   0.45   2.65  -1.19   3.26  -5.75   1.26]\n",
      " [ -6.4   -1.99   5.82  -0.11   3.5   -0.11  -0.71]]\n"
     ]
    }
   ],
   "metadata": {
    "colab": {
     "base_uri": "https://localhost:8080/"
    },
    "id": "s9iRz1iAd7Oe",
    "outputId": "646831e9-4077-4d05-a899-1d341487be7f"
   }
  },
  {
   "cell_type": "code",
   "execution_count": 29,
   "source": [
    "from scipy.special import softmax\n",
    "\n",
    "proba = softmax(decision, axis=1)\n",
    "print(np.round(proba, decimals=3))"
   ],
   "outputs": [
    {
     "output_type": "stream",
     "name": "stdout",
     "text": [
      "[[0.    0.014 0.841 0.    0.136 0.007 0.003]\n",
      " [0.    0.003 0.044 0.    0.007 0.946 0.   ]\n",
      " [0.    0.    0.034 0.935 0.015 0.016 0.   ]\n",
      " [0.011 0.034 0.306 0.007 0.567 0.    0.076]\n",
      " [0.    0.    0.904 0.002 0.089 0.002 0.001]]\n"
     ]
    }
   ],
   "metadata": {
    "colab": {
     "base_uri": "https://localhost:8080/"
    },
    "id": "49CcsDHZeJma",
    "outputId": "c707d169-6860-47c3-dd2c-35d650b7a875"
   }
  }
 ],
 "metadata": {
  "colab": {
   "collapsed_sections": [],
   "name": "4-1 로지스틱 회귀.ipynb",
   "provenance": []
  },
  "kernelspec": {
   "name": "python3",
   "display_name": "Python 3.8.8 64-bit (conda)"
  },
  "language_info": {
   "codemirror_mode": {
    "name": "ipython",
    "version": 3
   },
   "file_extension": ".py",
   "mimetype": "text/x-python",
   "name": "python",
   "nbconvert_exporter": "python",
   "pygments_lexer": "ipython3",
   "version": "3.8.8"
  },
  "interpreter": {
   "hash": "b52688e825a6bfaad25548bd5a7d2c464521d66bec57a7b296eac95a2f4c95d6"
  }
 },
 "nbformat": 4,
 "nbformat_minor": 1
}
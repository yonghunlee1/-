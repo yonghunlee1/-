{
  "nbformat": 4,
  "nbformat_minor": 0,
  "metadata": {
    "kernelspec": {
      "display_name": "TensorFlow 2.3 on Python 3.6 (CUDA 10.1)",
      "language": "python",
      "name": "python3"
    },
    "language_info": {
      "codemirror_mode": {
        "name": "ipython",
        "version": 3
      },
      "file_extension": ".py",
      "mimetype": "text/x-python",
      "name": "python",
      "nbconvert_exporter": "python",
      "pygments_lexer": "ipython3",
      "version": "3.6.9"
    },
    "colab": {
      "name": "9-3.ipynb",
      "provenance": []
    },
    "accelerator": "GPU"
  },
  "cells": [
    {
      "cell_type": "markdown",
      "metadata": {
        "id": "AlaMdWF26k2H"
      },
      "source": [
        "# LSTM과 GRU 셀"
      ]
    },
    {
      "cell_type": "markdown",
      "metadata": {
        "id": "o_Csb7v96k2M"
      },
      "source": [
        "<table align=\"left\">\n",
        "  <td>\n",
        "    <a target=\"_blank\" href=\"https://colab.research.google.com/github/rickiepark/hg-mldl/blob/master/9-3.ipynb\"><img src=\"https://www.tensorflow.org/images/colab_logo_32px.png\" />구글 코랩에서 실행하기</a>\n",
        "  </td>\n",
        "</table>"
      ]
    },
    {
      "cell_type": "markdown",
      "metadata": {
        "id": "KWi9yl0q6k2N"
      },
      "source": [
        "## LSTM 신경망 훈련하기"
      ]
    },
    {
      "cell_type": "code",
      "metadata": {
        "execution": {
          "iopub.execute_input": "2020-10-12T09:05:30.590337Z",
          "iopub.status.busy": "2020-10-12T09:05:30.589154Z",
          "iopub.status.idle": "2020-10-12T09:05:40.880700Z",
          "shell.execute_reply": "2020-10-12T09:05:40.879133Z"
        },
        "id": "XL7x0NCx6k2N",
        "colab": {
          "base_uri": "https://localhost:8080/"
        },
        "outputId": "96934ad3-2707-4164-efa8-ae78833e7395"
      },
      "source": [
        "from tensorflow.keras.datasets import imdb\n",
        "from sklearn.model_selection import train_test_split\n",
        "\n",
        "(train_input, train_target), (test_input, test_target) = imdb.load_data(\n",
        "    num_words=500)\n",
        "\n",
        "train_input, val_input, train_target, val_target = train_test_split(\n",
        "    train_input, train_target, test_size=0.2, random_state=42)"
      ],
      "execution_count": 1,
      "outputs": [
        {
          "output_type": "stream",
          "text": [
            "Downloading data from https://storage.googleapis.com/tensorflow/tf-keras-datasets/imdb.npz\n",
            "17465344/17464789 [==============================] - 0s 0us/step\n"
          ],
          "name": "stdout"
        },
        {
          "output_type": "stream",
          "text": [
            "<string>:6: VisibleDeprecationWarning: Creating an ndarray from ragged nested sequences (which is a list-or-tuple of lists-or-tuples-or ndarrays with different lengths or shapes) is deprecated. If you meant to do this, you must specify 'dtype=object' when creating the ndarray\n",
            "/usr/local/lib/python3.7/dist-packages/tensorflow/python/keras/datasets/imdb.py:155: VisibleDeprecationWarning: Creating an ndarray from ragged nested sequences (which is a list-or-tuple of lists-or-tuples-or ndarrays with different lengths or shapes) is deprecated. If you meant to do this, you must specify 'dtype=object' when creating the ndarray\n",
            "  x_train, y_train = np.array(xs[:idx]), np.array(labels[:idx])\n",
            "/usr/local/lib/python3.7/dist-packages/tensorflow/python/keras/datasets/imdb.py:156: VisibleDeprecationWarning: Creating an ndarray from ragged nested sequences (which is a list-or-tuple of lists-or-tuples-or ndarrays with different lengths or shapes) is deprecated. If you meant to do this, you must specify 'dtype=object' when creating the ndarray\n",
            "  x_test, y_test = np.array(xs[idx:]), np.array(labels[idx:])\n"
          ],
          "name": "stderr"
        }
      ]
    },
    {
      "cell_type": "code",
      "metadata": {
        "execution": {
          "iopub.execute_input": "2020-10-12T09:05:40.904623Z",
          "iopub.status.busy": "2020-10-12T09:05:40.902896Z",
          "iopub.status.idle": "2020-10-12T09:05:41.543511Z",
          "shell.execute_reply": "2020-10-12T09:05:41.542251Z"
        },
        "id": "5bjJ14QJ6k2O"
      },
      "source": [
        "from tensorflow.keras.preprocessing.sequence import pad_sequences\n",
        "\n",
        "train_seq = pad_sequences(train_input, maxlen=100)\n",
        "val_seq = pad_sequences(val_input, maxlen=100)"
      ],
      "execution_count": 2,
      "outputs": []
    },
    {
      "cell_type": "code",
      "metadata": {
        "execution": {
          "iopub.execute_input": "2020-10-12T09:05:41.551517Z",
          "iopub.status.busy": "2020-10-12T09:05:41.550145Z",
          "iopub.status.idle": "2020-10-12T09:05:43.982644Z",
          "shell.execute_reply": "2020-10-12T09:05:43.983878Z"
        },
        "id": "uMlTD4zv6k2O",
        "colab": {
          "base_uri": "https://localhost:8080/"
        },
        "outputId": "f6df93a9-a213-4dbd-ca88-27e9ea9d7bce"
      },
      "source": [
        "from tensorflow import keras\n",
        "\n",
        "model = keras.Sequential()\n",
        "\n",
        "model.add(keras.layers.Embedding(500, 16, input_length=100))\n",
        "model.add(keras.layers.LSTM(8))\n",
        "model.add(keras.layers.Dense(1, activation='sigmoid'))\n",
        "\n",
        "model.summary()"
      ],
      "execution_count": 3,
      "outputs": [
        {
          "output_type": "stream",
          "text": [
            "Model: \"sequential\"\n",
            "_________________________________________________________________\n",
            "Layer (type)                 Output Shape              Param #   \n",
            "=================================================================\n",
            "embedding (Embedding)        (None, 100, 16)           8000      \n",
            "_________________________________________________________________\n",
            "lstm (LSTM)                  (None, 8)                 800       \n",
            "_________________________________________________________________\n",
            "dense (Dense)                (None, 1)                 9         \n",
            "=================================================================\n",
            "Total params: 8,809\n",
            "Trainable params: 8,809\n",
            "Non-trainable params: 0\n",
            "_________________________________________________________________\n"
          ],
          "name": "stdout"
        }
      ]
    },
    {
      "cell_type": "code",
      "metadata": {
        "execution": {
          "iopub.execute_input": "2020-10-12T09:05:44.007411Z",
          "iopub.status.busy": "2020-10-12T09:05:44.005663Z",
          "iopub.status.idle": "2020-10-12T09:09:36.703760Z",
          "shell.execute_reply": "2020-10-12T09:09:36.702162Z"
        },
        "id": "nCmqOkjI6k2P",
        "colab": {
          "base_uri": "https://localhost:8080/"
        },
        "outputId": "6e0f04d1-6317-4c28-ad37-4e199498e491"
      },
      "source": [
        "rmsprop = keras.optimizers.RMSprop(learning_rate=1e-4)\n",
        "model.compile(optimizer=rmsprop, loss='binary_crossentropy', \n",
        "              metrics=['accuracy'])\n",
        "\n",
        "checkpoint_cb = keras.callbacks.ModelCheckpoint('best-lstm-model.h5', \n",
        "                                                save_best_only=True)\n",
        "early_stopping_cb = keras.callbacks.EarlyStopping(patience=3,\n",
        "                                                  restore_best_weights=True)\n",
        "\n",
        "history = model.fit(train_seq, train_target, epochs=100, batch_size=64,\n",
        "                    validation_data=(val_seq, val_target),\n",
        "                    callbacks=[checkpoint_cb, early_stopping_cb])"
      ],
      "execution_count": 4,
      "outputs": [
        {
          "output_type": "stream",
          "text": [
            "Epoch 1/100\n",
            "313/313 [==============================] - 11s 9ms/step - loss: 0.6923 - accuracy: 0.5354 - val_loss: 0.6917 - val_accuracy: 0.5468\n",
            "Epoch 2/100\n",
            "313/313 [==============================] - 2s 8ms/step - loss: 0.6893 - accuracy: 0.6054 - val_loss: 0.6874 - val_accuracy: 0.6250\n",
            "Epoch 3/100\n",
            "313/313 [==============================] - 2s 8ms/step - loss: 0.6806 - accuracy: 0.6608 - val_loss: 0.6725 - val_accuracy: 0.6814\n",
            "Epoch 4/100\n",
            "313/313 [==============================] - 2s 8ms/step - loss: 0.6354 - accuracy: 0.7053 - val_loss: 0.5830 - val_accuracy: 0.7200\n",
            "Epoch 5/100\n",
            "313/313 [==============================] - 2s 8ms/step - loss: 0.5546 - accuracy: 0.7398 - val_loss: 0.5398 - val_accuracy: 0.7456\n",
            "Epoch 6/100\n",
            "313/313 [==============================] - 2s 8ms/step - loss: 0.5201 - accuracy: 0.7614 - val_loss: 0.5112 - val_accuracy: 0.7666\n",
            "Epoch 7/100\n",
            "313/313 [==============================] - 2s 8ms/step - loss: 0.4943 - accuracy: 0.7747 - val_loss: 0.4908 - val_accuracy: 0.7744\n",
            "Epoch 8/100\n",
            "313/313 [==============================] - 2s 7ms/step - loss: 0.4758 - accuracy: 0.7857 - val_loss: 0.4765 - val_accuracy: 0.7824\n",
            "Epoch 9/100\n",
            "313/313 [==============================] - 2s 8ms/step - loss: 0.4632 - accuracy: 0.7929 - val_loss: 0.4689 - val_accuracy: 0.7868\n",
            "Epoch 10/100\n",
            "313/313 [==============================] - 2s 8ms/step - loss: 0.4546 - accuracy: 0.7964 - val_loss: 0.4624 - val_accuracy: 0.7908\n",
            "Epoch 11/100\n",
            "313/313 [==============================] - 2s 8ms/step - loss: 0.4476 - accuracy: 0.7980 - val_loss: 0.4567 - val_accuracy: 0.7900\n",
            "Epoch 12/100\n",
            "313/313 [==============================] - 2s 8ms/step - loss: 0.4416 - accuracy: 0.8024 - val_loss: 0.4535 - val_accuracy: 0.7920\n",
            "Epoch 13/100\n",
            "313/313 [==============================] - 2s 8ms/step - loss: 0.4374 - accuracy: 0.8044 - val_loss: 0.4508 - val_accuracy: 0.7940\n",
            "Epoch 14/100\n",
            "313/313 [==============================] - 2s 8ms/step - loss: 0.4341 - accuracy: 0.8071 - val_loss: 0.4512 - val_accuracy: 0.7884\n",
            "Epoch 15/100\n",
            "313/313 [==============================] - 2s 8ms/step - loss: 0.4305 - accuracy: 0.8069 - val_loss: 0.4507 - val_accuracy: 0.7882\n",
            "Epoch 16/100\n",
            "313/313 [==============================] - 2s 8ms/step - loss: 0.4281 - accuracy: 0.8073 - val_loss: 0.4439 - val_accuracy: 0.7960\n",
            "Epoch 17/100\n",
            "313/313 [==============================] - 2s 8ms/step - loss: 0.4259 - accuracy: 0.8087 - val_loss: 0.4426 - val_accuracy: 0.7956\n",
            "Epoch 18/100\n",
            "313/313 [==============================] - 2s 8ms/step - loss: 0.4233 - accuracy: 0.8105 - val_loss: 0.4441 - val_accuracy: 0.7908\n",
            "Epoch 19/100\n",
            "313/313 [==============================] - 2s 8ms/step - loss: 0.4218 - accuracy: 0.8109 - val_loss: 0.4411 - val_accuracy: 0.7932\n",
            "Epoch 20/100\n",
            "313/313 [==============================] - 2s 8ms/step - loss: 0.4196 - accuracy: 0.8113 - val_loss: 0.4382 - val_accuracy: 0.7994\n",
            "Epoch 21/100\n",
            "313/313 [==============================] - 2s 8ms/step - loss: 0.4185 - accuracy: 0.8130 - val_loss: 0.4404 - val_accuracy: 0.7902\n",
            "Epoch 22/100\n",
            "313/313 [==============================] - 2s 8ms/step - loss: 0.4171 - accuracy: 0.8129 - val_loss: 0.4356 - val_accuracy: 0.7998\n",
            "Epoch 23/100\n",
            "313/313 [==============================] - 2s 8ms/step - loss: 0.4156 - accuracy: 0.8130 - val_loss: 0.4352 - val_accuracy: 0.8008\n",
            "Epoch 24/100\n",
            "313/313 [==============================] - 2s 8ms/step - loss: 0.4144 - accuracy: 0.8141 - val_loss: 0.4347 - val_accuracy: 0.8026\n",
            "Epoch 25/100\n",
            "313/313 [==============================] - 2s 8ms/step - loss: 0.4135 - accuracy: 0.8137 - val_loss: 0.4344 - val_accuracy: 0.7966\n",
            "Epoch 26/100\n",
            "313/313 [==============================] - 2s 8ms/step - loss: 0.4122 - accuracy: 0.8149 - val_loss: 0.4350 - val_accuracy: 0.7972\n",
            "Epoch 27/100\n",
            "313/313 [==============================] - 2s 8ms/step - loss: 0.4111 - accuracy: 0.8149 - val_loss: 0.4416 - val_accuracy: 0.7896\n",
            "Epoch 28/100\n",
            "313/313 [==============================] - 2s 8ms/step - loss: 0.4101 - accuracy: 0.8158 - val_loss: 0.4321 - val_accuracy: 0.8048\n",
            "Epoch 29/100\n",
            "313/313 [==============================] - 2s 8ms/step - loss: 0.4091 - accuracy: 0.8162 - val_loss: 0.4359 - val_accuracy: 0.7946\n",
            "Epoch 30/100\n",
            "313/313 [==============================] - 2s 8ms/step - loss: 0.4079 - accuracy: 0.8177 - val_loss: 0.4319 - val_accuracy: 0.7994\n",
            "Epoch 31/100\n",
            "313/313 [==============================] - 2s 8ms/step - loss: 0.4072 - accuracy: 0.8169 - val_loss: 0.4298 - val_accuracy: 0.8024\n",
            "Epoch 32/100\n",
            "313/313 [==============================] - 2s 8ms/step - loss: 0.4059 - accuracy: 0.8168 - val_loss: 0.4291 - val_accuracy: 0.8046\n",
            "Epoch 33/100\n",
            "313/313 [==============================] - 2s 8ms/step - loss: 0.4051 - accuracy: 0.8181 - val_loss: 0.4318 - val_accuracy: 0.7992\n",
            "Epoch 34/100\n",
            "313/313 [==============================] - 2s 8ms/step - loss: 0.4042 - accuracy: 0.8176 - val_loss: 0.4354 - val_accuracy: 0.7942\n",
            "Epoch 35/100\n",
            "313/313 [==============================] - 2s 8ms/step - loss: 0.4037 - accuracy: 0.8173 - val_loss: 0.4283 - val_accuracy: 0.8012\n",
            "Epoch 36/100\n",
            "313/313 [==============================] - 2s 8ms/step - loss: 0.4027 - accuracy: 0.8202 - val_loss: 0.4319 - val_accuracy: 0.7990\n",
            "Epoch 37/100\n",
            "313/313 [==============================] - 2s 8ms/step - loss: 0.4021 - accuracy: 0.8187 - val_loss: 0.4282 - val_accuracy: 0.8068\n",
            "Epoch 38/100\n",
            "313/313 [==============================] - 2s 8ms/step - loss: 0.4013 - accuracy: 0.8206 - val_loss: 0.4270 - val_accuracy: 0.8062\n",
            "Epoch 39/100\n",
            "313/313 [==============================] - 2s 8ms/step - loss: 0.4001 - accuracy: 0.8203 - val_loss: 0.4273 - val_accuracy: 0.8014\n",
            "Epoch 40/100\n",
            "313/313 [==============================] - 2s 8ms/step - loss: 0.3997 - accuracy: 0.8220 - val_loss: 0.4276 - val_accuracy: 0.8056\n",
            "Epoch 41/100\n",
            "313/313 [==============================] - 2s 8ms/step - loss: 0.3985 - accuracy: 0.8223 - val_loss: 0.4250 - val_accuracy: 0.8074\n",
            "Epoch 42/100\n",
            "313/313 [==============================] - 2s 8ms/step - loss: 0.3978 - accuracy: 0.8228 - val_loss: 0.4257 - val_accuracy: 0.8054\n",
            "Epoch 43/100\n",
            "313/313 [==============================] - 2s 8ms/step - loss: 0.3968 - accuracy: 0.8214 - val_loss: 0.4282 - val_accuracy: 0.8102\n",
            "Epoch 44/100\n",
            "313/313 [==============================] - 2s 8ms/step - loss: 0.3963 - accuracy: 0.8213 - val_loss: 0.4243 - val_accuracy: 0.8056\n",
            "Epoch 45/100\n",
            "313/313 [==============================] - 2s 8ms/step - loss: 0.3954 - accuracy: 0.8236 - val_loss: 0.4291 - val_accuracy: 0.8012\n",
            "Epoch 46/100\n",
            "313/313 [==============================] - 2s 8ms/step - loss: 0.3943 - accuracy: 0.8231 - val_loss: 0.4243 - val_accuracy: 0.8078\n",
            "Epoch 47/100\n",
            "313/313 [==============================] - 2s 8ms/step - loss: 0.3937 - accuracy: 0.8224 - val_loss: 0.4232 - val_accuracy: 0.8060\n",
            "Epoch 48/100\n",
            "313/313 [==============================] - 2s 8ms/step - loss: 0.3929 - accuracy: 0.8241 - val_loss: 0.4293 - val_accuracy: 0.8044\n",
            "Epoch 49/100\n",
            "313/313 [==============================] - 2s 8ms/step - loss: 0.3918 - accuracy: 0.8242 - val_loss: 0.4308 - val_accuracy: 0.8022\n",
            "Epoch 50/100\n",
            "313/313 [==============================] - 2s 8ms/step - loss: 0.3915 - accuracy: 0.8242 - val_loss: 0.4226 - val_accuracy: 0.8062\n",
            "Epoch 51/100\n",
            "313/313 [==============================] - 2s 8ms/step - loss: 0.3907 - accuracy: 0.8261 - val_loss: 0.4229 - val_accuracy: 0.8056\n",
            "Epoch 52/100\n",
            "313/313 [==============================] - 2s 8ms/step - loss: 0.3899 - accuracy: 0.8245 - val_loss: 0.4244 - val_accuracy: 0.8030\n",
            "Epoch 53/100\n",
            "313/313 [==============================] - 2s 8ms/step - loss: 0.3893 - accuracy: 0.8256 - val_loss: 0.4236 - val_accuracy: 0.8052\n"
          ],
          "name": "stdout"
        }
      ]
    },
    {
      "cell_type": "code",
      "metadata": {
        "execution": {
          "iopub.execute_input": "2020-10-12T09:09:36.725150Z",
          "iopub.status.busy": "2020-10-12T09:09:36.723949Z",
          "iopub.status.idle": "2020-10-12T09:09:37.618677Z",
          "shell.execute_reply": "2020-10-12T09:09:37.620018Z"
        },
        "id": "Xl1bliNr6k2Q",
        "colab": {
          "base_uri": "https://localhost:8080/",
          "height": 279
        },
        "outputId": "5f77068f-d3aa-47ae-9f52-943ca5ff294d"
      },
      "source": [
        "import matplotlib.pyplot as plt\n",
        "\n",
        "plt.plot(history.history['loss'])\n",
        "plt.plot(history.history['val_loss'])\n",
        "plt.xlabel('epoch')\n",
        "plt.ylabel('loss')\n",
        "plt.legend(['train', 'val'])\n",
        "plt.show()"
      ],
      "execution_count": 5,
      "outputs": [
        {
          "output_type": "display_data",
          "data": {
            "image/png": "[encoded data removed]",
            "text/plain": [
              "<Figure size 432x288 with 1 Axes>"
            ]
          },
          "metadata": {
            "tags": [],
            "needs_background": "light"
          }
        }
      ]
    },
    {
      "cell_type": "markdown",
      "metadata": {
        "id": "ob79h7Kc6k2Q"
      },
      "source": [
        "## 순환 층에 드롭아웃 적용하기"
      ]
    },
    {
      "cell_type": "code",
      "metadata": {
        "execution": {
          "iopub.execute_input": "2020-10-12T09:09:37.633391Z",
          "iopub.status.busy": "2020-10-12T09:09:37.631822Z",
          "iopub.status.idle": "2020-10-12T09:09:37.849640Z",
          "shell.execute_reply": "2020-10-12T09:09:37.850929Z"
        },
        "id": "Fr0DUR-Y6k2R"
      },
      "source": [
        "model2 = keras.Sequential()\n",
        "\n",
        "model2.add(keras.layers.Embedding(500, 16, input_length=100))\n",
        "model2.add(keras.layers.LSTM(8, dropout=0.3))\n",
        "model2.add(keras.layers.Dense(1, activation='sigmoid'))"
      ],
      "execution_count": 6,
      "outputs": []
    },
    {
      "cell_type": "code",
      "metadata": {
        "execution": {
          "iopub.execute_input": "2020-10-12T09:09:37.868353Z",
          "iopub.status.busy": "2020-10-12T09:09:37.866777Z",
          "iopub.status.idle": "2020-10-12T09:13:59.438760Z",
          "shell.execute_reply": "2020-10-12T09:13:59.440154Z"
        },
        "id": "Ap8XxUO46k2R",
        "colab": {
          "base_uri": "https://localhost:8080/"
        },
        "outputId": "fc43b9f7-f48e-4f45-dc6e-89fd4e9eb038"
      },
      "source": [
        "rmsprop = keras.optimizers.RMSprop(learning_rate=1e-4)\n",
        "model2.compile(optimizer=rmsprop, loss='binary_crossentropy', \n",
        "               metrics=['accuracy'])\n",
        "\n",
        "checkpoint_cb = keras.callbacks.ModelCheckpoint('best-dropout-model.h5', \n",
        "                                                save_best_only=True)\n",
        "early_stopping_cb = keras.callbacks.EarlyStopping(patience=3,\n",
        "                                                  restore_best_weights=True)\n",
        "\n",
        "history = model2.fit(train_seq, train_target, epochs=100, batch_size=64,\n",
        "                     validation_data=(val_seq, val_target),\n",
        "                     callbacks=[checkpoint_cb, early_stopping_cb])"
      ],
      "execution_count": 7,
      "outputs": [
        {
          "output_type": "stream",
          "text": [
            "Epoch 1/100\n",
            "313/313 [==============================] - 5s 9ms/step - loss: 0.6923 - accuracy: 0.5348 - val_loss: 0.6911 - val_accuracy: 0.5792\n",
            "Epoch 2/100\n",
            "313/313 [==============================] - 2s 8ms/step - loss: 0.6897 - accuracy: 0.5994 - val_loss: 0.6872 - val_accuracy: 0.6398\n",
            "Epoch 3/100\n",
            "313/313 [==============================] - 2s 8ms/step - loss: 0.6813 - accuracy: 0.6522 - val_loss: 0.6703 - val_accuracy: 0.6906\n",
            "Epoch 4/100\n",
            "313/313 [==============================] - 2s 8ms/step - loss: 0.6297 - accuracy: 0.6992 - val_loss: 0.5941 - val_accuracy: 0.7140\n",
            "Epoch 5/100\n",
            "313/313 [==============================] - 2s 8ms/step - loss: 0.5815 - accuracy: 0.7207 - val_loss: 0.5675 - val_accuracy: 0.7374\n",
            "Epoch 6/100\n",
            "313/313 [==============================] - 2s 8ms/step - loss: 0.5612 - accuracy: 0.7374 - val_loss: 0.5486 - val_accuracy: 0.7550\n",
            "Epoch 7/100\n",
            "313/313 [==============================] - 2s 8ms/step - loss: 0.5452 - accuracy: 0.7498 - val_loss: 0.5345 - val_accuracy: 0.7590\n",
            "Epoch 8/100\n",
            "313/313 [==============================] - 2s 8ms/step - loss: 0.5294 - accuracy: 0.7577 - val_loss: 0.5212 - val_accuracy: 0.7664\n",
            "Epoch 9/100\n",
            "313/313 [==============================] - 2s 8ms/step - loss: 0.5155 - accuracy: 0.7670 - val_loss: 0.5094 - val_accuracy: 0.7706\n",
            "Epoch 10/100\n",
            "313/313 [==============================] - 3s 8ms/step - loss: 0.5031 - accuracy: 0.7750 - val_loss: 0.5010 - val_accuracy: 0.7712\n",
            "Epoch 11/100\n",
            "313/313 [==============================] - 2s 8ms/step - loss: 0.4917 - accuracy: 0.7796 - val_loss: 0.4892 - val_accuracy: 0.7782\n",
            "Epoch 12/100\n",
            "313/313 [==============================] - 2s 8ms/step - loss: 0.4846 - accuracy: 0.7831 - val_loss: 0.4822 - val_accuracy: 0.7846\n",
            "Epoch 13/100\n",
            "313/313 [==============================] - 3s 8ms/step - loss: 0.4758 - accuracy: 0.7865 - val_loss: 0.4733 - val_accuracy: 0.7884\n",
            "Epoch 14/100\n",
            "313/313 [==============================] - 2s 8ms/step - loss: 0.4665 - accuracy: 0.7910 - val_loss: 0.4671 - val_accuracy: 0.7842\n",
            "Epoch 15/100\n",
            "313/313 [==============================] - 2s 8ms/step - loss: 0.4603 - accuracy: 0.7924 - val_loss: 0.4619 - val_accuracy: 0.7894\n",
            "Epoch 16/100\n",
            "313/313 [==============================] - 2s 8ms/step - loss: 0.4533 - accuracy: 0.7971 - val_loss: 0.4560 - val_accuracy: 0.7904\n",
            "Epoch 17/100\n",
            "313/313 [==============================] - 2s 8ms/step - loss: 0.4493 - accuracy: 0.7946 - val_loss: 0.4532 - val_accuracy: 0.7928\n",
            "Epoch 18/100\n",
            "313/313 [==============================] - 2s 8ms/step - loss: 0.4433 - accuracy: 0.8002 - val_loss: 0.4501 - val_accuracy: 0.7928\n",
            "Epoch 19/100\n",
            "313/313 [==============================] - 2s 8ms/step - loss: 0.4413 - accuracy: 0.8016 - val_loss: 0.4453 - val_accuracy: 0.7936\n",
            "Epoch 20/100\n",
            "313/313 [==============================] - 2s 8ms/step - loss: 0.4362 - accuracy: 0.8029 - val_loss: 0.4438 - val_accuracy: 0.7950\n",
            "Epoch 21/100\n",
            "313/313 [==============================] - 2s 8ms/step - loss: 0.4333 - accuracy: 0.8063 - val_loss: 0.4409 - val_accuracy: 0.7958\n",
            "Epoch 22/100\n",
            "313/313 [==============================] - 2s 8ms/step - loss: 0.4320 - accuracy: 0.8058 - val_loss: 0.4412 - val_accuracy: 0.7948\n",
            "Epoch 23/100\n",
            "313/313 [==============================] - 2s 8ms/step - loss: 0.4298 - accuracy: 0.8041 - val_loss: 0.4402 - val_accuracy: 0.7924\n",
            "Epoch 24/100\n",
            "313/313 [==============================] - 2s 8ms/step - loss: 0.4288 - accuracy: 0.8035 - val_loss: 0.4375 - val_accuracy: 0.7976\n",
            "Epoch 25/100\n",
            "313/313 [==============================] - 2s 8ms/step - loss: 0.4274 - accuracy: 0.8041 - val_loss: 0.4358 - val_accuracy: 0.7992\n",
            "Epoch 26/100\n",
            "313/313 [==============================] - 2s 8ms/step - loss: 0.4246 - accuracy: 0.8059 - val_loss: 0.4359 - val_accuracy: 0.7998\n",
            "Epoch 27/100\n",
            "313/313 [==============================] - 2s 8ms/step - loss: 0.4235 - accuracy: 0.8077 - val_loss: 0.4386 - val_accuracy: 0.8008\n",
            "Epoch 28/100\n",
            "313/313 [==============================] - 2s 8ms/step - loss: 0.4227 - accuracy: 0.8077 - val_loss: 0.4353 - val_accuracy: 0.8018\n",
            "Epoch 29/100\n",
            "313/313 [==============================] - 2s 8ms/step - loss: 0.4211 - accuracy: 0.8074 - val_loss: 0.4347 - val_accuracy: 0.7984\n",
            "Epoch 30/100\n",
            "313/313 [==============================] - 2s 8ms/step - loss: 0.4222 - accuracy: 0.8067 - val_loss: 0.4338 - val_accuracy: 0.7986\n",
            "Epoch 31/100\n",
            "313/313 [==============================] - 2s 8ms/step - loss: 0.4215 - accuracy: 0.8065 - val_loss: 0.4336 - val_accuracy: 0.8008\n",
            "Epoch 32/100\n",
            "313/313 [==============================] - 2s 8ms/step - loss: 0.4200 - accuracy: 0.8080 - val_loss: 0.4326 - val_accuracy: 0.7998\n",
            "Epoch 33/100\n",
            "313/313 [==============================] - 2s 8ms/step - loss: 0.4195 - accuracy: 0.8084 - val_loss: 0.4324 - val_accuracy: 0.7966\n",
            "Epoch 34/100\n",
            "313/313 [==============================] - 2s 8ms/step - loss: 0.4192 - accuracy: 0.8101 - val_loss: 0.4321 - val_accuracy: 0.7970\n",
            "Epoch 35/100\n",
            "313/313 [==============================] - 2s 8ms/step - loss: 0.4176 - accuracy: 0.8097 - val_loss: 0.4336 - val_accuracy: 0.8036\n",
            "Epoch 36/100\n",
            "313/313 [==============================] - 2s 8ms/step - loss: 0.4185 - accuracy: 0.8096 - val_loss: 0.4330 - val_accuracy: 0.8018\n",
            "Epoch 37/100\n",
            "313/313 [==============================] - 2s 8ms/step - loss: 0.4163 - accuracy: 0.8087 - val_loss: 0.4335 - val_accuracy: 0.8030\n"
          ],
          "name": "stdout"
        }
      ]
    },
    {
      "cell_type": "code",
      "metadata": {
        "execution": {
          "iopub.execute_input": "2020-10-12T09:13:59.466740Z",
          "iopub.status.busy": "2020-10-12T09:13:59.465154Z",
          "iopub.status.idle": "2020-10-12T09:14:00.055101Z",
          "shell.execute_reply": "2020-10-12T09:14:00.056561Z"
        },
        "id": "Qzwsp3pl6k2R",
        "colab": {
          "base_uri": "https://localhost:8080/",
          "height": 279
        },
        "outputId": "43a8edca-6d32-4084-ae7d-fd6b3c28a1ef"
      },
      "source": [
        "plt.plot(history.history['loss'])\n",
        "plt.plot(history.history['val_loss'])\n",
        "plt.xlabel('epoch')\n",
        "plt.ylabel('loss')\n",
        "plt.legend(['train', 'val'])\n",
        "plt.show()"
      ],
      "execution_count": 8,
      "outputs": [
        {
          "output_type": "display_data",
          "data": {
            "image/png": "[encoded data removed]",
            "text/plain": [
              "<Figure size 432x288 with 1 Axes>"
            ]
          },
          "metadata": {
            "tags": [],
            "needs_background": "light"
          }
        }
      ]
    },
    {
      "cell_type": "markdown",
      "metadata": {
        "id": "DKtQByM96k2S"
      },
      "source": [
        "## 2개의 층을 연결하기"
      ]
    },
    {
      "cell_type": "code",
      "metadata": {
        "execution": {
          "iopub.execute_input": "2020-10-12T09:14:00.069924Z",
          "iopub.status.busy": "2020-10-12T09:14:00.068581Z",
          "iopub.status.idle": "2020-10-12T09:14:00.459073Z",
          "shell.execute_reply": "2020-10-12T09:14:00.460006Z"
        },
        "id": "YkQboCpD6k2S",
        "colab": {
          "base_uri": "https://localhost:8080/"
        },
        "outputId": "2e1609c9-889b-4a7e-a1bd-c1cd30e32a7d"
      },
      "source": [
        "model3 = keras.Sequential()\n",
        "\n",
        "model3.add(keras.layers.Embedding(500, 16, input_length=100))\n",
        "model3.add(keras.layers.LSTM(8, dropout=0.3, return_sequences=True))\n",
        "model3.add(keras.layers.LSTM(8, dropout=0.3))\n",
        "model3.add(keras.layers.Dense(1, activation='sigmoid'))\n",
        "\n",
        "model3.summary()"
      ],
      "execution_count": 9,
      "outputs": [
        {
          "output_type": "stream",
          "text": [
            "Model: \"sequential_2\"\n",
            "_________________________________________________________________\n",
            "Layer (type)                 Output Shape              Param #   \n",
            "=================================================================\n",
            "embedding_2 (Embedding)      (None, 100, 16)           8000      \n",
            "_________________________________________________________________\n",
            "lstm_2 (LSTM)                (None, 100, 8)            800       \n",
            "_________________________________________________________________\n",
            "lstm_3 (LSTM)                (None, 8)                 544       \n",
            "_________________________________________________________________\n",
            "dense_2 (Dense)              (None, 1)                 9         \n",
            "=================================================================\n",
            "Total params: 9,353\n",
            "Trainable params: 9,353\n",
            "Non-trainable params: 0\n",
            "_________________________________________________________________\n"
          ],
          "name": "stdout"
        }
      ]
    },
    {
      "cell_type": "code",
      "metadata": {
        "execution": {
          "iopub.execute_input": "2020-10-12T09:14:00.485178Z",
          "iopub.status.busy": "2020-10-12T09:14:00.483959Z",
          "iopub.status.idle": "2020-10-12T09:20:24.570047Z",
          "shell.execute_reply": "2020-10-12T09:20:24.571421Z"
        },
        "id": "hDk_ffAo6k2S",
        "colab": {
          "base_uri": "https://localhost:8080/"
        },
        "outputId": "ede53a9f-313e-4454-9b24-e94178ba831f"
      },
      "source": [
        "rmsprop = keras.optimizers.RMSprop(learning_rate=1e-4)\n",
        "model3.compile(optimizer=rmsprop, loss='binary_crossentropy', \n",
        "               metrics=['accuracy'])\n",
        "\n",
        "checkpoint_cb = keras.callbacks.ModelCheckpoint('best-2rnn-model.h5', \n",
        "                                                save_best_only=True)\n",
        "early_stopping_cb = keras.callbacks.EarlyStopping(patience=3,\n",
        "                                                  restore_best_weights=True)\n",
        "\n",
        "history = model3.fit(train_seq, train_target, epochs=100, batch_size=64,\n",
        "                     validation_data=(val_seq, val_target),\n",
        "                     callbacks=[checkpoint_cb, early_stopping_cb])"
      ],
      "execution_count": 10,
      "outputs": [
        {
          "output_type": "stream",
          "text": [
            "Epoch 1/100\n",
            "313/313 [==============================] - 7s 14ms/step - loss: 0.6918 - accuracy: 0.5480 - val_loss: 0.6904 - val_accuracy: 0.5902\n",
            "Epoch 2/100\n",
            "313/313 [==============================] - 4s 12ms/step - loss: 0.6833 - accuracy: 0.6177 - val_loss: 0.6735 - val_accuracy: 0.5924\n",
            "Epoch 3/100\n",
            "313/313 [==============================] - 4s 12ms/step - loss: 0.6318 - accuracy: 0.6682 - val_loss: 0.5963 - val_accuracy: 0.7110\n",
            "Epoch 4/100\n",
            "313/313 [==============================] - 4s 12ms/step - loss: 0.5710 - accuracy: 0.7281 - val_loss: 0.5554 - val_accuracy: 0.7390\n",
            "Epoch 5/100\n",
            "313/313 [==============================] - 4s 12ms/step - loss: 0.5418 - accuracy: 0.7456 - val_loss: 0.5355 - val_accuracy: 0.7420\n",
            "Epoch 6/100\n",
            "313/313 [==============================] - 4s 12ms/step - loss: 0.5222 - accuracy: 0.7577 - val_loss: 0.5129 - val_accuracy: 0.7610\n",
            "Epoch 7/100\n",
            "313/313 [==============================] - 4s 12ms/step - loss: 0.5055 - accuracy: 0.7648 - val_loss: 0.4997 - val_accuracy: 0.7646\n",
            "Epoch 8/100\n",
            "313/313 [==============================] - 4s 12ms/step - loss: 0.4947 - accuracy: 0.7703 - val_loss: 0.4932 - val_accuracy: 0.7748\n",
            "Epoch 9/100\n",
            "313/313 [==============================] - 4s 12ms/step - loss: 0.4865 - accuracy: 0.7775 - val_loss: 0.4798 - val_accuracy: 0.7774\n",
            "Epoch 10/100\n",
            "313/313 [==============================] - 4s 12ms/step - loss: 0.4761 - accuracy: 0.7818 - val_loss: 0.4741 - val_accuracy: 0.7800\n",
            "Epoch 11/100\n",
            "313/313 [==============================] - 4s 12ms/step - loss: 0.4707 - accuracy: 0.7847 - val_loss: 0.4716 - val_accuracy: 0.7808\n",
            "Epoch 12/100\n",
            "313/313 [==============================] - 4s 12ms/step - loss: 0.4653 - accuracy: 0.7885 - val_loss: 0.4646 - val_accuracy: 0.7884\n",
            "Epoch 13/100\n",
            "313/313 [==============================] - 4s 12ms/step - loss: 0.4594 - accuracy: 0.7917 - val_loss: 0.4596 - val_accuracy: 0.7854\n",
            "Epoch 14/100\n",
            "313/313 [==============================] - 4s 12ms/step - loss: 0.4570 - accuracy: 0.7908 - val_loss: 0.4574 - val_accuracy: 0.7896\n",
            "Epoch 15/100\n",
            "313/313 [==============================] - 4s 12ms/step - loss: 0.4534 - accuracy: 0.7919 - val_loss: 0.4541 - val_accuracy: 0.7894\n",
            "Epoch 16/100\n",
            "313/313 [==============================] - 4s 13ms/step - loss: 0.4496 - accuracy: 0.7942 - val_loss: 0.4514 - val_accuracy: 0.7898\n",
            "Epoch 17/100\n",
            "313/313 [==============================] - 4s 12ms/step - loss: 0.4463 - accuracy: 0.7945 - val_loss: 0.4488 - val_accuracy: 0.7908\n",
            "Epoch 18/100\n",
            "313/313 [==============================] - 4s 12ms/step - loss: 0.4437 - accuracy: 0.7980 - val_loss: 0.4470 - val_accuracy: 0.7926\n",
            "Epoch 19/100\n",
            "313/313 [==============================] - 4s 12ms/step - loss: 0.4404 - accuracy: 0.7998 - val_loss: 0.4461 - val_accuracy: 0.7906\n",
            "Epoch 20/100\n",
            "313/313 [==============================] - 4s 12ms/step - loss: 0.4379 - accuracy: 0.8023 - val_loss: 0.4440 - val_accuracy: 0.7958\n",
            "Epoch 21/100\n",
            "313/313 [==============================] - 4s 12ms/step - loss: 0.4364 - accuracy: 0.7994 - val_loss: 0.4442 - val_accuracy: 0.7886\n",
            "Epoch 22/100\n",
            "313/313 [==============================] - 4s 12ms/step - loss: 0.4356 - accuracy: 0.8007 - val_loss: 0.4431 - val_accuracy: 0.7966\n",
            "Epoch 23/100\n",
            "313/313 [==============================] - 4s 12ms/step - loss: 0.4344 - accuracy: 0.8008 - val_loss: 0.4411 - val_accuracy: 0.7946\n",
            "Epoch 24/100\n",
            "313/313 [==============================] - 4s 12ms/step - loss: 0.4327 - accuracy: 0.8042 - val_loss: 0.4408 - val_accuracy: 0.7912\n",
            "Epoch 25/100\n",
            "313/313 [==============================] - 4s 12ms/step - loss: 0.4317 - accuracy: 0.8013 - val_loss: 0.4396 - val_accuracy: 0.7916\n",
            "Epoch 26/100\n",
            "313/313 [==============================] - 4s 12ms/step - loss: 0.4290 - accuracy: 0.8016 - val_loss: 0.4389 - val_accuracy: 0.7928\n",
            "Epoch 27/100\n",
            "313/313 [==============================] - 4s 12ms/step - loss: 0.4293 - accuracy: 0.8034 - val_loss: 0.4390 - val_accuracy: 0.7916\n",
            "Epoch 28/100\n",
            "313/313 [==============================] - 4s 12ms/step - loss: 0.4298 - accuracy: 0.8039 - val_loss: 0.4397 - val_accuracy: 0.8010\n",
            "Epoch 29/100\n",
            "313/313 [==============================] - 4s 12ms/step - loss: 0.4265 - accuracy: 0.8054 - val_loss: 0.4387 - val_accuracy: 0.7998\n",
            "Epoch 30/100\n",
            "313/313 [==============================] - 4s 12ms/step - loss: 0.4276 - accuracy: 0.8056 - val_loss: 0.4374 - val_accuracy: 0.7946\n",
            "Epoch 31/100\n",
            "313/313 [==============================] - 4s 12ms/step - loss: 0.4262 - accuracy: 0.8047 - val_loss: 0.4369 - val_accuracy: 0.7918\n",
            "Epoch 32/100\n",
            "313/313 [==============================] - 4s 12ms/step - loss: 0.4230 - accuracy: 0.8054 - val_loss: 0.4361 - val_accuracy: 0.7970\n",
            "Epoch 33/100\n",
            "313/313 [==============================] - 4s 12ms/step - loss: 0.4239 - accuracy: 0.8064 - val_loss: 0.4355 - val_accuracy: 0.7970\n",
            "Epoch 34/100\n",
            "313/313 [==============================] - 4s 12ms/step - loss: 0.4237 - accuracy: 0.8069 - val_loss: 0.4359 - val_accuracy: 0.8000\n",
            "Epoch 35/100\n",
            "313/313 [==============================] - 4s 12ms/step - loss: 0.4207 - accuracy: 0.8084 - val_loss: 0.4357 - val_accuracy: 0.7990\n",
            "Epoch 36/100\n",
            "313/313 [==============================] - 4s 12ms/step - loss: 0.4219 - accuracy: 0.8079 - val_loss: 0.4348 - val_accuracy: 0.7994\n",
            "Epoch 37/100\n",
            "313/313 [==============================] - 4s 12ms/step - loss: 0.4203 - accuracy: 0.8108 - val_loss: 0.4338 - val_accuracy: 0.7960\n",
            "Epoch 38/100\n",
            "313/313 [==============================] - 4s 12ms/step - loss: 0.4196 - accuracy: 0.8087 - val_loss: 0.4333 - val_accuracy: 0.7994\n",
            "Epoch 39/100\n",
            "313/313 [==============================] - 4s 12ms/step - loss: 0.4194 - accuracy: 0.8099 - val_loss: 0.4340 - val_accuracy: 0.8006\n",
            "Epoch 40/100\n",
            "313/313 [==============================] - 4s 12ms/step - loss: 0.4203 - accuracy: 0.8076 - val_loss: 0.4325 - val_accuracy: 0.8002\n",
            "Epoch 41/100\n",
            "313/313 [==============================] - 4s 12ms/step - loss: 0.4179 - accuracy: 0.8105 - val_loss: 0.4326 - val_accuracy: 0.8000\n",
            "Epoch 42/100\n",
            "313/313 [==============================] - 4s 12ms/step - loss: 0.4173 - accuracy: 0.8106 - val_loss: 0.4333 - val_accuracy: 0.8014\n",
            "Epoch 43/100\n",
            "313/313 [==============================] - 4s 12ms/step - loss: 0.4169 - accuracy: 0.8105 - val_loss: 0.4326 - val_accuracy: 0.8026\n"
          ],
          "name": "stdout"
        }
      ]
    },
    {
      "cell_type": "code",
      "metadata": {
        "execution": {
          "iopub.execute_input": "2020-10-12T09:20:24.599872Z",
          "iopub.status.busy": "2020-10-12T09:20:24.598716Z",
          "iopub.status.idle": "2020-10-12T09:20:25.172291Z",
          "shell.execute_reply": "2020-10-12T09:20:25.173681Z"
        },
        "id": "1paBqczf6k2S",
        "colab": {
          "base_uri": "https://localhost:8080/",
          "height": 279
        },
        "outputId": "a58f4e94-c3b6-4df4-d90a-43f50b6ecdcd"
      },
      "source": [
        "plt.plot(history.history['loss'])\n",
        "plt.plot(history.history['val_loss'])\n",
        "plt.xlabel('epoch')\n",
        "plt.ylabel('loss')\n",
        "plt.legend(['train', 'val'])\n",
        "plt.show()"
      ],
      "execution_count": 11,
      "outputs": [
        {
          "output_type": "display_data",
          "data": {
            "image/png": "[encoded data removed]",
            "text/plain": [
              "<Figure size 432x288 with 1 Axes>"
            ]
          },
          "metadata": {
            "tags": [],
            "needs_background": "light"
          }
        }
      ]
    },
    {
      "cell_type": "markdown",
      "metadata": {
        "id": "Jisn0P9h6k2T"
      },
      "source": [
        "## GRU 신경망 훈련하기"
      ]
    },
    {
      "cell_type": "code",
      "metadata": {
        "execution": {
          "iopub.execute_input": "2020-10-12T09:20:25.189832Z",
          "iopub.status.busy": "2020-10-12T09:20:25.188004Z",
          "iopub.status.idle": "2020-10-12T09:20:25.402624Z",
          "shell.execute_reply": "2020-10-12T09:20:25.401128Z"
        },
        "id": "dwYF578d6k2T",
        "colab": {
          "base_uri": "https://localhost:8080/"
        },
        "outputId": "1ff4b844-37e3-4a14-9724-95f9ead1e1ba"
      },
      "source": [
        "model4 = keras.Sequential()\n",
        "\n",
        "model4.add(keras.layers.Embedding(500, 16, input_length=100))\n",
        "model4.add(keras.layers.GRU(8))\n",
        "model4.add(keras.layers.Dense(1, activation='sigmoid'))\n",
        "\n",
        "model4.summary()"
      ],
      "execution_count": 12,
      "outputs": [
        {
          "output_type": "stream",
          "text": [
            "Model: \"sequential_3\"\n",
            "_________________________________________________________________\n",
            "Layer (type)                 Output Shape              Param #   \n",
            "=================================================================\n",
            "embedding_3 (Embedding)      (None, 100, 16)           8000      \n",
            "_________________________________________________________________\n",
            "gru (GRU)                    (None, 8)                 624       \n",
            "_________________________________________________________________\n",
            "dense_3 (Dense)              (None, 1)                 9         \n",
            "=================================================================\n",
            "Total params: 8,633\n",
            "Trainable params: 8,633\n",
            "Non-trainable params: 0\n",
            "_________________________________________________________________\n"
          ],
          "name": "stdout"
        }
      ]
    },
    {
      "cell_type": "code",
      "metadata": {
        "execution": {
          "iopub.execute_input": "2020-10-12T09:20:25.420177Z",
          "iopub.status.busy": "2020-10-12T09:20:25.419630Z",
          "iopub.status.idle": "2020-10-12T09:25:10.574200Z",
          "shell.execute_reply": "2020-10-12T09:25:10.575704Z"
        },
        "id": "j2SfOZ3v6k2U",
        "colab": {
          "base_uri": "https://localhost:8080/"
        },
        "outputId": "192c83c4-2e9f-4928-b115-3d0efb70fd4a"
      },
      "source": [
        "rmsprop = keras.optimizers.RMSprop(learning_rate=1e-4)\n",
        "model4.compile(optimizer=rmsprop, loss='binary_crossentropy', \n",
        "               metrics=['accuracy'])\n",
        "\n",
        "checkpoint_cb = keras.callbacks.ModelCheckpoint('best-gru-model.h5', \n",
        "                                                save_best_only=True)\n",
        "early_stopping_cb = keras.callbacks.EarlyStopping(patience=3,\n",
        "                                                  restore_best_weights=True)\n",
        "\n",
        "history = model4.fit(train_seq, train_target, epochs=100, batch_size=64,\n",
        "                     validation_data=(val_seq, val_target),\n",
        "                     callbacks=[checkpoint_cb, early_stopping_cb])"
      ],
      "execution_count": 13,
      "outputs": [
        {
          "output_type": "stream",
          "text": [
            "Epoch 1/100\n",
            "313/313 [==============================] - 4s 9ms/step - loss: 0.6922 - accuracy: 0.5236 - val_loss: 0.6912 - val_accuracy: 0.5532\n",
            "Epoch 2/100\n",
            "313/313 [==============================] - 2s 8ms/step - loss: 0.6902 - accuracy: 0.5547 - val_loss: 0.6891 - val_accuracy: 0.5754\n",
            "Epoch 3/100\n",
            "313/313 [==============================] - 2s 8ms/step - loss: 0.6871 - accuracy: 0.5788 - val_loss: 0.6855 - val_accuracy: 0.5992\n",
            "Epoch 4/100\n",
            "313/313 [==============================] - 2s 8ms/step - loss: 0.6820 - accuracy: 0.6043 - val_loss: 0.6796 - val_accuracy: 0.6104\n",
            "Epoch 5/100\n",
            "313/313 [==============================] - 2s 8ms/step - loss: 0.6740 - accuracy: 0.6217 - val_loss: 0.6708 - val_accuracy: 0.6196\n",
            "Epoch 6/100\n",
            "313/313 [==============================] - 2s 7ms/step - loss: 0.6617 - accuracy: 0.6380 - val_loss: 0.6570 - val_accuracy: 0.6344\n",
            "Epoch 7/100\n",
            "313/313 [==============================] - 2s 8ms/step - loss: 0.6423 - accuracy: 0.6572 - val_loss: 0.6344 - val_accuracy: 0.6552\n",
            "Epoch 8/100\n",
            "313/313 [==============================] - 2s 8ms/step - loss: 0.6090 - accuracy: 0.6819 - val_loss: 0.5934 - val_accuracy: 0.6918\n",
            "Epoch 9/100\n",
            "313/313 [==============================] - 2s 8ms/step - loss: 0.5553 - accuracy: 0.7205 - val_loss: 0.5455 - val_accuracy: 0.7290\n",
            "Epoch 10/100\n",
            "313/313 [==============================] - 2s 7ms/step - loss: 0.5232 - accuracy: 0.7462 - val_loss: 0.5282 - val_accuracy: 0.7426\n",
            "Epoch 11/100\n",
            "313/313 [==============================] - 2s 8ms/step - loss: 0.5080 - accuracy: 0.7571 - val_loss: 0.5203 - val_accuracy: 0.7430\n",
            "Epoch 12/100\n",
            "313/313 [==============================] - 2s 8ms/step - loss: 0.4968 - accuracy: 0.7640 - val_loss: 0.5078 - val_accuracy: 0.7602\n",
            "Epoch 13/100\n",
            "313/313 [==============================] - 2s 7ms/step - loss: 0.4870 - accuracy: 0.7696 - val_loss: 0.5005 - val_accuracy: 0.7590\n",
            "Epoch 14/100\n",
            "313/313 [==============================] - 2s 8ms/step - loss: 0.4787 - accuracy: 0.7752 - val_loss: 0.4932 - val_accuracy: 0.7664\n",
            "Epoch 15/100\n",
            "313/313 [==============================] - 2s 7ms/step - loss: 0.4716 - accuracy: 0.7801 - val_loss: 0.4870 - val_accuracy: 0.7714\n",
            "Epoch 16/100\n",
            "313/313 [==============================] - 2s 8ms/step - loss: 0.4652 - accuracy: 0.7837 - val_loss: 0.4836 - val_accuracy: 0.7680\n",
            "Epoch 17/100\n",
            "313/313 [==============================] - 2s 8ms/step - loss: 0.4595 - accuracy: 0.7893 - val_loss: 0.4762 - val_accuracy: 0.7760\n",
            "Epoch 18/100\n",
            "313/313 [==============================] - 2s 8ms/step - loss: 0.4543 - accuracy: 0.7927 - val_loss: 0.4733 - val_accuracy: 0.7726\n",
            "Epoch 19/100\n",
            "313/313 [==============================] - 2s 7ms/step - loss: 0.4488 - accuracy: 0.7954 - val_loss: 0.4670 - val_accuracy: 0.7776\n",
            "Epoch 20/100\n",
            "313/313 [==============================] - 2s 8ms/step - loss: 0.4449 - accuracy: 0.7964 - val_loss: 0.4619 - val_accuracy: 0.7828\n",
            "Epoch 21/100\n",
            "313/313 [==============================] - 2s 8ms/step - loss: 0.4411 - accuracy: 0.7980 - val_loss: 0.4589 - val_accuracy: 0.7826\n",
            "Epoch 22/100\n",
            "313/313 [==============================] - 2s 8ms/step - loss: 0.4379 - accuracy: 0.8001 - val_loss: 0.4558 - val_accuracy: 0.7880\n",
            "Epoch 23/100\n",
            "313/313 [==============================] - 2s 8ms/step - loss: 0.4352 - accuracy: 0.8021 - val_loss: 0.4538 - val_accuracy: 0.7858\n",
            "Epoch 24/100\n",
            "313/313 [==============================] - 2s 7ms/step - loss: 0.4320 - accuracy: 0.8047 - val_loss: 0.4523 - val_accuracy: 0.7894\n",
            "Epoch 25/100\n",
            "313/313 [==============================] - 2s 8ms/step - loss: 0.4299 - accuracy: 0.8074 - val_loss: 0.4489 - val_accuracy: 0.7912\n",
            "Epoch 26/100\n",
            "313/313 [==============================] - 2s 7ms/step - loss: 0.4274 - accuracy: 0.8066 - val_loss: 0.4499 - val_accuracy: 0.7898\n",
            "Epoch 27/100\n",
            "313/313 [==============================] - 2s 7ms/step - loss: 0.4254 - accuracy: 0.8087 - val_loss: 0.4465 - val_accuracy: 0.7930\n",
            "Epoch 28/100\n",
            "313/313 [==============================] - 2s 7ms/step - loss: 0.4233 - accuracy: 0.8095 - val_loss: 0.4456 - val_accuracy: 0.7950\n",
            "Epoch 29/100\n",
            "313/313 [==============================] - 2s 8ms/step - loss: 0.4220 - accuracy: 0.8107 - val_loss: 0.4483 - val_accuracy: 0.7958\n",
            "Epoch 30/100\n",
            "313/313 [==============================] - 2s 7ms/step - loss: 0.4204 - accuracy: 0.8120 - val_loss: 0.4436 - val_accuracy: 0.7928\n",
            "Epoch 31/100\n",
            "313/313 [==============================] - 2s 8ms/step - loss: 0.4196 - accuracy: 0.8109 - val_loss: 0.4432 - val_accuracy: 0.7918\n",
            "Epoch 32/100\n",
            "313/313 [==============================] - 2s 8ms/step - loss: 0.4182 - accuracy: 0.8120 - val_loss: 0.4422 - val_accuracy: 0.7930\n",
            "Epoch 33/100\n",
            "313/313 [==============================] - 2s 8ms/step - loss: 0.4174 - accuracy: 0.8123 - val_loss: 0.4416 - val_accuracy: 0.7938\n",
            "Epoch 34/100\n",
            "313/313 [==============================] - 2s 8ms/step - loss: 0.4166 - accuracy: 0.8146 - val_loss: 0.4422 - val_accuracy: 0.7984\n",
            "Epoch 35/100\n",
            "313/313 [==============================] - 2s 7ms/step - loss: 0.4160 - accuracy: 0.8145 - val_loss: 0.4440 - val_accuracy: 0.7974\n",
            "Epoch 36/100\n",
            "313/313 [==============================] - 2s 8ms/step - loss: 0.4153 - accuracy: 0.8156 - val_loss: 0.4418 - val_accuracy: 0.7982\n"
          ],
          "name": "stdout"
        }
      ]
    },
    {
      "cell_type": "code",
      "metadata": {
        "execution": {
          "iopub.execute_input": "2020-10-12T09:25:10.602797Z",
          "iopub.status.busy": "2020-10-12T09:25:10.601459Z",
          "iopub.status.idle": "2020-10-12T09:25:11.203520Z",
          "shell.execute_reply": "2020-10-12T09:25:11.202193Z"
        },
        "id": "3yUJM4nA6k2U",
        "colab": {
          "base_uri": "https://localhost:8080/",
          "height": 279
        },
        "outputId": "160792f9-c89f-465f-dd35-a66bf46d5b9c"
      },
      "source": [
        "plt.plot(history.history['loss'])\n",
        "plt.plot(history.history['val_loss'])\n",
        "plt.xlabel('epoch')\n",
        "plt.ylabel('loss')\n",
        "plt.legend(['train', 'val'])\n",
        "plt.show()"
      ],
      "execution_count": 14,
      "outputs": [
        {
          "output_type": "display_data",
          "data": {
            "image/png": "[encoded data removed]",
            "text/plain": [
              "<Figure size 432x288 with 1 Axes>"
            ]
          },
          "metadata": {
            "tags": [],
            "needs_background": "light"
          }
        }
      ]
    },
    {
      "cell_type": "markdown",
      "metadata": {
        "id": "Ja3-116b6k2V"
      },
      "source": [
        "## 마무리"
      ]
    },
    {
      "cell_type": "code",
      "metadata": {
        "id": "-5WtFRN-6k2V",
        "colab": {
          "base_uri": "https://localhost:8080/"
        },
        "outputId": "bfcfb6d3-03a4-4d05-e78a-04d56c9b1d05"
      },
      "source": [
        "test_seq = pad_sequences(test_input, maxlen=100)\n",
        "\n",
        "rnn_model = keras.models.load_model('best-2rnn-model.h5')\n",
        "\n",
        "rnn_model.evaluate(test_seq, test_target)"
      ],
      "execution_count": 15,
      "outputs": [
        {
          "output_type": "stream",
          "text": [
            "782/782 [==============================] - 5s 5ms/step - loss: 0.4261 - accuracy: 0.8018\n"
          ],
          "name": "stdout"
        },
        {
          "output_type": "execute_result",
          "data": {
            "text/plain": [
              "[0.42607444524765015, 0.801800012588501]"
            ]
          },
          "metadata": {
            "tags": []
          },
          "execution_count": 15
        }
      ]
    }
  ]
}
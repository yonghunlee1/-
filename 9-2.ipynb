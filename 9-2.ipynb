{
 "cells": [
  {
   "cell_type": "markdown",
   "metadata": {
    "id": "MusV5YYT6kQF"
   },
   "source": [
    "# 순환 신경망으로 IMDB 리뷰 분류하기"
   ]
  },
  {
   "cell_type": "markdown",
   "metadata": {
    "id": "9uYfRb5-6kQQ"
   },
   "source": [
    "<table align=\"left\">\n",
    "  <td>\n",
    "    <a target=\"_blank\" href=\"https://colab.research.google.com/github/rickiepark/hg-mldl/blob/master/9-2.ipynb\"><img src=\"https://www.tensorflow.org/images/colab_logo_32px.png\" />구글 코랩에서 실행하기</a>\n",
    "  </td>\n",
    "</table>"
   ]
  },
  {
   "cell_type": "markdown",
   "metadata": {
    "id": "S1A-DDIQ6kQQ"
   },
   "source": [
    "## IMDB 리뷰 데이터셋"
   ]
  },
  {
   "cell_type": "code",
   "execution_count": 1,
   "metadata": {
    "colab": {
     "base_uri": "https://localhost:8080/"
    },
    "execution": {
     "iopub.execute_input": "2020-10-12T01:18:41.979392Z",
     "iopub.status.busy": "2020-10-12T01:18:41.978299Z",
     "iopub.status.idle": "2020-10-12T01:18:52.473300Z",
     "shell.execute_reply": "2020-10-12T01:18:52.471703Z"
    },
    "id": "sZoZm1ZO6kQR",
    "outputId": "e313a71b-3716-4cdb-dd52-83bd7c336bc4"
   },
   "outputs": [
    {
     "name": "stderr",
     "output_type": "stream",
     "text": [
      "<__array_function__ internals>:5: VisibleDeprecationWarning: Creating an ndarray from ragged nested sequences (which is a list-or-tuple of lists-or-tuples-or ndarrays with different lengths or shapes) is deprecated. If you meant to do this, you must specify 'dtype=object' when creating the ndarray\n",
      "C:\\Users\\Lee1\\AppData\\Roaming\\Python\\Python38\\site-packages\\tensorflow\\python\\keras\\datasets\\imdb.py:155: VisibleDeprecationWarning: Creating an ndarray from ragged nested sequences (which is a list-or-tuple of lists-or-tuples-or ndarrays with different lengths or shapes) is deprecated. If you meant to do this, you must specify 'dtype=object' when creating the ndarray\n",
      "  x_train, y_train = np.array(xs[:idx]), np.array(labels[:idx])\n",
      "C:\\Users\\Lee1\\AppData\\Roaming\\Python\\Python38\\site-packages\\tensorflow\\python\\keras\\datasets\\imdb.py:156: VisibleDeprecationWarning: Creating an ndarray from ragged nested sequences (which is a list-or-tuple of lists-or-tuples-or ndarrays with different lengths or shapes) is deprecated. If you meant to do this, you must specify 'dtype=object' when creating the ndarray\n",
      "  x_test, y_test = np.array(xs[idx:]), np.array(labels[idx:])\n"
     ]
    }
   ],
   "source": [
    "from tensorflow.keras.datasets import imdb\n",
    "\n",
    "(train_input, train_target), (test_input, test_target) = imdb.load_data(\n",
    "    num_words=500)"
   ]
  },
  {
   "cell_type": "code",
   "execution_count": 2,
   "metadata": {
    "colab": {
     "base_uri": "https://localhost:8080/"
    },
    "execution": {
     "iopub.execute_input": "2020-10-12T01:18:52.481400Z",
     "iopub.status.busy": "2020-10-12T01:18:52.479645Z",
     "iopub.status.idle": "2020-10-12T01:18:52.485658Z",
     "shell.execute_reply": "2020-10-12T01:18:52.486465Z"
    },
    "id": "HTFjz6k06kQR",
    "outputId": "05e3321d-ee80-4c36-ec0b-47312534a7d4"
   },
   "outputs": [
    {
     "name": "stdout",
     "output_type": "stream",
     "text": [
      "(25000,) (25000,)\n"
     ]
    }
   ],
   "source": [
    "print(train_input.shape, test_input.shape)"
   ]
  },
  {
   "cell_type": "code",
   "execution_count": 3,
   "metadata": {
    "colab": {
     "base_uri": "https://localhost:8080/"
    },
    "execution": {
     "iopub.execute_input": "2020-10-12T01:18:52.493608Z",
     "iopub.status.busy": "2020-10-12T01:18:52.492625Z",
     "iopub.status.idle": "2020-10-12T01:18:52.496804Z",
     "shell.execute_reply": "2020-10-12T01:18:52.497722Z"
    },
    "id": "4jMLURzw6kQS",
    "outputId": "d64c1779-fcea-4907-c242-f4bf38bb4390"
   },
   "outputs": [
    {
     "name": "stdout",
     "output_type": "stream",
     "text": [
      "218\n"
     ]
    }
   ],
   "source": [
    "print(len(train_input[0]))"
   ]
  },
  {
   "cell_type": "code",
   "execution_count": 4,
   "metadata": {
    "colab": {
     "base_uri": "https://localhost:8080/"
    },
    "execution": {
     "iopub.execute_input": "2020-10-12T01:18:52.504933Z",
     "iopub.status.busy": "2020-10-12T01:18:52.503811Z",
     "iopub.status.idle": "2020-10-12T01:18:52.508252Z",
     "shell.execute_reply": "2020-10-12T01:18:52.509172Z"
    },
    "id": "xdO834PL6kQT",
    "outputId": "37dfcd91-0b64-4de0-ff12-54d87e061f9d"
   },
   "outputs": [
    {
     "name": "stdout",
     "output_type": "stream",
     "text": [
      "189\n"
     ]
    }
   ],
   "source": [
    "print(len(train_input[1]))"
   ]
  },
  {
   "cell_type": "code",
   "execution_count": 5,
   "metadata": {
    "colab": {
     "base_uri": "https://localhost:8080/"
    },
    "execution": {
     "iopub.execute_input": "2020-10-12T01:18:52.516102Z",
     "iopub.status.busy": "2020-10-12T01:18:52.515014Z",
     "iopub.status.idle": "2020-10-12T01:18:52.520096Z",
     "shell.execute_reply": "2020-10-12T01:18:52.520972Z"
    },
    "id": "QNuzGQ2c6kQT",
    "outputId": "0caadb93-6d51-49aa-d63a-c011c824a565"
   },
   "outputs": [
    {
     "name": "stdout",
     "output_type": "stream",
     "text": [
      "[1, 14, 22, 16, 43, 2, 2, 2, 2, 65, 458, 2, 66, 2, 4, 173, 36, 256, 5, 25, 100, 43, 2, 112, 50, 2, 2, 9, 35, 480, 284, 5, 150, 4, 172, 112, 167, 2, 336, 385, 39, 4, 172, 2, 2, 17, 2, 38, 13, 447, 4, 192, 50, 16, 6, 147, 2, 19, 14, 22, 4, 2, 2, 469, 4, 22, 71, 87, 12, 16, 43, 2, 38, 76, 15, 13, 2, 4, 22, 17, 2, 17, 12, 16, 2, 18, 2, 5, 62, 386, 12, 8, 316, 8, 106, 5, 4, 2, 2, 16, 480, 66, 2, 33, 4, 130, 12, 16, 38, 2, 5, 25, 124, 51, 36, 135, 48, 25, 2, 33, 6, 22, 12, 215, 28, 77, 52, 5, 14, 407, 16, 82, 2, 8, 4, 107, 117, 2, 15, 256, 4, 2, 7, 2, 5, 2, 36, 71, 43, 2, 476, 26, 400, 317, 46, 7, 4, 2, 2, 13, 104, 88, 4, 381, 15, 297, 98, 32, 2, 56, 26, 141, 6, 194, 2, 18, 4, 226, 22, 21, 134, 476, 26, 480, 5, 144, 30, 2, 18, 51, 36, 28, 224, 92, 25, 104, 4, 226, 65, 16, 38, 2, 88, 12, 16, 283, 5, 16, 2, 113, 103, 32, 15, 16, 2, 19, 178, 32]\n"
     ]
    }
   ],
   "source": [
    "print(train_input[0])"
   ]
  },
  {
   "cell_type": "code",
   "execution_count": 6,
   "metadata": {
    "colab": {
     "base_uri": "https://localhost:8080/"
    },
    "execution": {
     "iopub.execute_input": "2020-10-12T01:18:52.528598Z",
     "iopub.status.busy": "2020-10-12T01:18:52.527510Z",
     "iopub.status.idle": "2020-10-12T01:18:52.532011Z",
     "shell.execute_reply": "2020-10-12T01:18:52.532936Z"
    },
    "id": "In8Qzltz6kQT",
    "outputId": "36db13f3-8fb4-44aa-ef25-b0fa88e73838"
   },
   "outputs": [
    {
     "name": "stdout",
     "output_type": "stream",
     "text": [
      "[1 0 0 1 0 0 1 0 1 0 1 0 0 0 0 0 1 1 0 1]\n"
     ]
    }
   ],
   "source": [
    "print(train_target[:20])"
   ]
  },
  {
   "cell_type": "code",
   "execution_count": 7,
   "metadata": {
    "execution": {
     "iopub.execute_input": "2020-10-12T01:18:52.541031Z",
     "iopub.status.busy": "2020-10-12T01:18:52.539873Z",
     "iopub.status.idle": "2020-10-12T01:18:52.812559Z",
     "shell.execute_reply": "2020-10-12T01:18:52.810985Z"
    },
    "id": "0-zjNgBw6kQU"
   },
   "outputs": [],
   "source": [
    "from sklearn.model_selection import train_test_split\n",
    "\n",
    "train_input, val_input, train_target, val_target = train_test_split(\n",
    "    train_input, train_target, test_size=0.2, random_state=42)"
   ]
  },
  {
   "cell_type": "code",
   "execution_count": 8,
   "metadata": {
    "execution": {
     "iopub.execute_input": "2020-10-12T01:18:52.833360Z",
     "iopub.status.busy": "2020-10-12T01:18:52.831841Z",
     "iopub.status.idle": "2020-10-12T01:18:52.834920Z",
     "shell.execute_reply": "2020-10-12T01:18:52.836117Z"
    },
    "id": "sRVvgntx6kQU"
   },
   "outputs": [],
   "source": [
    "import numpy as np\n",
    "\n",
    "lengths = np.array([len(x) for x in train_input])"
   ]
  },
  {
   "cell_type": "code",
   "execution_count": 9,
   "metadata": {
    "colab": {
     "base_uri": "https://localhost:8080/"
    },
    "execution": {
     "iopub.execute_input": "2020-10-12T01:18:52.843759Z",
     "iopub.status.busy": "2020-10-12T01:18:52.842297Z",
     "iopub.status.idle": "2020-10-12T01:18:52.847506Z",
     "shell.execute_reply": "2020-10-12T01:18:52.848361Z"
    },
    "id": "p76m_61w6kQU",
    "outputId": "77763e28-360e-473e-8138-e50a8bec31de"
   },
   "outputs": [
    {
     "name": "stdout",
     "output_type": "stream",
     "text": [
      "239.00925 178.0\n"
     ]
    }
   ],
   "source": [
    "print(np.mean(lengths), np.median(lengths))"
   ]
  },
  {
   "cell_type": "code",
   "execution_count": 10,
   "metadata": {
    "colab": {
     "base_uri": "https://localhost:8080/",
     "height": 279
    },
    "execution": {
     "iopub.execute_input": "2020-10-12T01:18:52.874891Z",
     "iopub.status.busy": "2020-10-12T01:18:52.873857Z",
     "iopub.status.idle": "2020-10-12T01:18:53.042560Z",
     "shell.execute_reply": "2020-10-12T01:18:53.040898Z"
    },
    "id": "TVDrsRYF6kQV",
    "outputId": "82c4815c-4a17-4a35-a7cd-aeac122e52fd"
   },
   "outputs": [
    {
     "data": {
      "image/png": "[encoded data removed]",
      "text/plain": [
       "<Figure size 432x288 with 1 Axes>"
      ]
     },
     "metadata": {
      "needs_background": "light"
     },
     "output_type": "display_data"
    }
   ],
   "source": [
    "import matplotlib.pyplot as plt\n",
    "\n",
    "plt.hist(lengths)\n",
    "plt.xlabel('length')\n",
    "plt.ylabel('frequency')\n",
    "plt.show()"
   ]
  },
  {
   "cell_type": "code",
   "execution_count": 11,
   "metadata": {
    "execution": {
     "iopub.execute_input": "2020-10-12T01:18:53.056410Z",
     "iopub.status.busy": "2020-10-12T01:18:53.054676Z",
     "iopub.status.idle": "2020-10-12T01:18:53.509881Z",
     "shell.execute_reply": "2020-10-12T01:18:53.507938Z"
    },
    "id": "fbLSFToP6kQV"
   },
   "outputs": [],
   "source": [
    "from tensorflow.keras.preprocessing.sequence import pad_sequences\n",
    "\n",
    "train_seq = pad_sequences(train_input, maxlen=10)"
   ]
  },
  {
   "cell_type": "code",
   "execution_count": 12,
   "metadata": {
    "colab": {
     "base_uri": "https://localhost:8080/"
    },
    "execution": {
     "iopub.execute_input": "2020-10-12T01:18:53.516113Z",
     "iopub.status.busy": "2020-10-12T01:18:53.514858Z",
     "iopub.status.idle": "2020-10-12T01:18:53.519062Z",
     "shell.execute_reply": "2020-10-12T01:18:53.520171Z"
    },
    "id": "3c86x0Yj6kQV",
    "outputId": "069e0dd7-cd29-43b4-dd4c-722741ee9c55"
   },
   "outputs": [
    {
     "name": "stdout",
     "output_type": "stream",
     "text": [
      "(20000, 10)\n"
     ]
    }
   ],
   "source": [
    "print(train_seq.shape)"
   ]
  },
  {
   "cell_type": "code",
   "execution_count": 13,
   "metadata": {
    "colab": {
     "base_uri": "https://localhost:8080/"
    },
    "execution": {
     "iopub.execute_input": "2020-10-12T01:18:53.529088Z",
     "iopub.status.busy": "2020-10-12T01:18:53.527775Z",
     "iopub.status.idle": "2020-10-12T01:18:53.532885Z",
     "shell.execute_reply": "2020-10-12T01:18:53.533957Z"
    },
    "id": "JuP0QJaU6kQW",
    "outputId": "62aa3a8f-bf82-4641-8b5b-5cdb58ff77b3"
   },
   "outputs": [
    {
     "name": "stdout",
     "output_type": "stream",
     "text": [
      "[  6   2  46   7  14  20  10  10 470 158]\n"
     ]
    }
   ],
   "source": [
    "print(train_seq[0])"
   ]
  },
  {
   "cell_type": "code",
   "execution_count": 14,
   "metadata": {
    "colab": {
     "base_uri": "https://localhost:8080/"
    },
    "execution": {
     "iopub.execute_input": "2020-10-12T01:18:53.541335Z",
     "iopub.status.busy": "2020-10-12T01:18:53.540161Z",
     "iopub.status.idle": "2020-10-12T01:18:53.544735Z",
     "shell.execute_reply": "2020-10-12T01:18:53.545765Z"
    },
    "id": "6t8kaDji6kQW",
    "outputId": "dbdef300-b981-4956-e397-4ee77d93594a"
   },
   "outputs": [
    {
     "name": "stdout",
     "output_type": "stream",
     "text": [
      "[6, 2, 46, 7, 14, 20, 10, 10, 470, 158]\n"
     ]
    }
   ],
   "source": [
    "print(train_input[0][-10:])"
   ]
  },
  {
   "cell_type": "code",
   "execution_count": 15,
   "metadata": {
    "colab": {
     "base_uri": "https://localhost:8080/"
    },
    "execution": {
     "iopub.execute_input": "2020-10-12T01:18:53.553993Z",
     "iopub.status.busy": "2020-10-12T01:18:53.552689Z",
     "iopub.status.idle": "2020-10-12T01:18:53.557009Z",
     "shell.execute_reply": "2020-10-12T01:18:53.558118Z"
    },
    "id": "Emmoztwa6kQX",
    "outputId": "1f6544e3-b3c7-403c-96e1-b2bf3b016fdf",
    "scrolled": true
   },
   "outputs": [
    {
     "name": "stdout",
     "output_type": "stream",
     "text": [
      "[  2   2 290   2  46  48  64  18   4   2]\n"
     ]
    }
   ],
   "source": [
    "print(train_seq[5])"
   ]
  },
  {
   "cell_type": "code",
   "execution_count": 16,
   "metadata": {
    "execution": {
     "iopub.execute_input": "2020-10-12T01:18:53.568279Z",
     "iopub.status.busy": "2020-10-12T01:18:53.566949Z",
     "iopub.status.idle": "2020-10-12T01:18:53.688571Z",
     "shell.execute_reply": "2020-10-12T01:18:53.687412Z"
    },
    "id": "ZeFmsjOd6kQX"
   },
   "outputs": [],
   "source": [
    "val_seq = pad_sequences(val_input, maxlen=100)"
   ]
  },
  {
   "cell_type": "markdown",
   "metadata": {
    "id": "9xab0nu_6kQX"
   },
   "source": [
    "## 순환 신경망 만들기"
   ]
  },
  {
   "cell_type": "code",
   "execution_count": 17,
   "metadata": {
    "execution": {
     "iopub.execute_input": "2020-10-12T01:18:53.702727Z",
     "iopub.status.busy": "2020-10-12T01:18:53.694374Z",
     "iopub.status.idle": "2020-10-12T01:18:55.997285Z",
     "shell.execute_reply": "2020-10-12T01:18:55.995617Z"
    },
    "id": "45BtHGKX6kQX"
   },
   "outputs": [],
   "source": [
    "from tensorflow import keras\n",
    "\n",
    "model = keras.Sequential()\n",
    "\n",
    "model.add(keras.layers.SimpleRNN(8, input_shape=(100, 500)))\n",
    "model.add(keras.layers.Dense(1, activation='sigmoid'))"
   ]
  },
  {
   "cell_type": "code",
   "execution_count": 18,
   "metadata": {
    "execution": {
     "iopub.execute_input": "2020-10-12T01:18:56.004523Z",
     "iopub.status.busy": "2020-10-12T01:18:56.002786Z",
     "iopub.status.idle": "2020-10-12T01:18:57.766487Z",
     "shell.execute_reply": "2020-10-12T01:18:57.764928Z"
    },
    "id": "oXIWyOuw6kQY"
   },
   "outputs": [],
   "source": [
    "train_oh = keras.utils.to_categorical(train_seq)"
   ]
  },
  {
   "cell_type": "code",
   "execution_count": 19,
   "metadata": {
    "colab": {
     "base_uri": "https://localhost:8080/"
    },
    "execution": {
     "iopub.execute_input": "2020-10-12T01:18:57.774226Z",
     "iopub.status.busy": "2020-10-12T01:18:57.772482Z",
     "iopub.status.idle": "2020-10-12T01:18:57.777731Z",
     "shell.execute_reply": "2020-10-12T01:18:57.778538Z"
    },
    "id": "VD94WiRT6kQY",
    "outputId": "0bd918d8-2eb5-43de-d2fa-d7df9da69fba"
   },
   "outputs": [
    {
     "name": "stdout",
     "output_type": "stream",
     "text": [
      "(20000, 10, 500)\n"
     ]
    }
   ],
   "source": [
    "print(train_oh.shape)"
   ]
  },
  {
   "cell_type": "code",
   "execution_count": 20,
   "metadata": {
    "colab": {
     "base_uri": "https://localhost:8080/"
    },
    "execution": {
     "iopub.execute_input": "2020-10-12T01:18:57.786369Z",
     "iopub.status.busy": "2020-10-12T01:18:57.785416Z",
     "iopub.status.idle": "2020-10-12T01:18:57.790217Z",
     "shell.execute_reply": "2020-10-12T01:18:57.791183Z"
    },
    "id": "VIVSHwJg6kQY",
    "outputId": "148c0293-4900-43e3-b0ab-a3511d86a75b"
   },
   "outputs": [
    {
     "name": "stdout",
     "output_type": "stream",
     "text": [
      "[0. 0. 0. 0. 0. 0. 1. 0. 0. 0. 0. 0.]\n"
     ]
    }
   ],
   "source": [
    "print(train_oh[0][0][:12])"
   ]
  },
  {
   "cell_type": "code",
   "execution_count": 21,
   "metadata": {
    "colab": {
     "base_uri": "https://localhost:8080/"
    },
    "execution": {
     "iopub.execute_input": "2020-10-12T01:18:57.798946Z",
     "iopub.status.busy": "2020-10-12T01:18:57.797788Z",
     "iopub.status.idle": "2020-10-12T01:18:57.802480Z",
     "shell.execute_reply": "2020-10-12T01:18:57.803390Z"
    },
    "id": "CP3ivii46kQZ",
    "outputId": "e4ba4b87-c13f-4b2c-d69e-bd2d49c09d6e"
   },
   "outputs": [
    {
     "name": "stdout",
     "output_type": "stream",
     "text": [
      "1.0\n"
     ]
    }
   ],
   "source": [
    "print(np.sum(train_oh[0][0]))"
   ]
  },
  {
   "cell_type": "code",
   "execution_count": 22,
   "metadata": {
    "execution": {
     "iopub.execute_input": "2020-10-12T01:18:57.810383Z",
     "iopub.status.busy": "2020-10-12T01:18:57.809293Z",
     "iopub.status.idle": "2020-10-12T01:18:58.247989Z",
     "shell.execute_reply": "2020-10-12T01:18:58.248931Z"
    },
    "id": "vgijH6m26kQZ"
   },
   "outputs": [],
   "source": [
    "val_oh = keras.utils.to_categorical(val_seq)"
   ]
  },
  {
   "cell_type": "code",
   "execution_count": 23,
   "metadata": {
    "colab": {
     "base_uri": "https://localhost:8080/"
    },
    "execution": {
     "iopub.execute_input": "2020-10-12T01:18:58.256367Z",
     "iopub.status.busy": "2020-10-12T01:18:58.255252Z",
     "iopub.status.idle": "2020-10-12T01:18:58.261986Z",
     "shell.execute_reply": "2020-10-12T01:18:58.262846Z"
    },
    "id": "0V0Svpuf6kQZ",
    "outputId": "0bf510fa-d72e-487a-e0c1-326f318dd2c9"
   },
   "outputs": [
    {
     "name": "stdout",
     "output_type": "stream",
     "text": [
      "Model: \"sequential\"\n",
      "_________________________________________________________________\n",
      "Layer (type)                 Output Shape              Param #   \n",
      "=================================================================\n",
      "simple_rnn (SimpleRNN)       (None, 8)                 4072      \n",
      "_________________________________________________________________\n",
      "dense (Dense)                (None, 1)                 9         \n",
      "=================================================================\n",
      "Total params: 4,081\n",
      "Trainable params: 4,081\n",
      "Non-trainable params: 0\n",
      "_________________________________________________________________\n"
     ]
    }
   ],
   "source": [
    "model.summary()"
   ]
  },
  {
   "cell_type": "markdown",
   "metadata": {},
   "source": [
    "500*8 + 8*8 + 8  = 4072"
   ]
  },
  {
   "cell_type": "markdown",
   "metadata": {
    "id": "S22Hc-7L6kQZ"
   },
   "source": [
    "## 순환 신경망 훈련하기"
   ]
  },
  {
   "cell_type": "code",
   "execution_count": 24,
   "metadata": {
    "colab": {
     "base_uri": "https://localhost:8080/"
    },
    "execution": {
     "iopub.execute_input": "2020-10-12T01:18:58.286672Z",
     "iopub.status.busy": "2020-10-12T01:18:58.285571Z",
     "iopub.status.idle": "2020-10-12T01:30:36.157752Z",
     "shell.execute_reply": "2020-10-12T01:30:36.159280Z"
    },
    "id": "YcwM299t6kQZ",
    "outputId": "9ff93ce6-39c0-45ac-b3cf-5aca2d5e4f7e"
   },
   "outputs": [
    {
     "name": "stdout",
     "output_type": "stream",
     "text": [
      "WARNING:tensorflow:Model was constructed with shape (None, 100, 500) for input KerasTensor(type_spec=TensorSpec(shape=(None, 100, 500), dtype=tf.float32, name='simple_rnn_input'), name='simple_rnn_input', description=\"created by layer 'simple_rnn_input'\"), but it was called on an input with incompatible shape (None, 10, 500).\n",
      "WARNING:tensorflow:Model was constructed with shape (None, 100, 500) for input KerasTensor(type_spec=TensorSpec(shape=(None, 100, 500), dtype=tf.float32, name='simple_rnn_input'), name='simple_rnn_input', description=\"created by layer 'simple_rnn_input'\"), but it was called on an input with incompatible shape (None, 10, 500).\n",
      "313/313 [==============================] - 12s 31ms/step - loss: 0.6963 - accuracy: 0.5046 - val_loss: 0.6943 - val_accuracy: 0.5124\n"
     ]
    }
   ],
   "source": [
    "rmsprop = keras.optimizers.RMSprop(learning_rate=1e-4)\n",
    "model.compile(optimizer=rmsprop, loss='binary_crossentropy', \n",
    "              metrics=['accuracy'])\n",
    "\n",
    "checkpoint_cb = keras.callbacks.ModelCheckpoint('best-simplernn-model.h5', \n",
    "                                                save_best_only=True)\n",
    "early_stopping_cb = keras.callbacks.EarlyStopping(patience=3,\n",
    "                                                  restore_best_weights=True)\n",
    "\n",
    "history = model.fit(train_oh, train_target, epochs=1, batch_size=64,\n",
    "                    validation_data=(val_oh, val_target),\n",
    "                    callbacks=[checkpoint_cb, early_stopping_cb])"
   ]
  },
  {
   "cell_type": "code",
   "execution_count": 25,
   "metadata": {
    "colab": {
     "base_uri": "https://localhost:8080/",
     "height": 279
    },
    "execution": {
     "iopub.execute_input": "2020-10-12T01:30:36.190161Z",
     "iopub.status.busy": "2020-10-12T01:30:36.175046Z",
     "iopub.status.idle": "2020-10-12T01:30:36.782577Z",
     "shell.execute_reply": "2020-10-12T01:30:36.784046Z"
    },
    "id": "YS_5tIG26kQa",
    "outputId": "9f18f98c-30e5-4914-8b56-cae3f31408c5"
   },
   "outputs": [
    {
     "data": {
      "image/png": "[encoded data removed]",
      "text/plain": [
       "<Figure size 432x288 with 1 Axes>"
      ]
     },
     "metadata": {
      "needs_background": "light"
     },
     "output_type": "display_data"
    }
   ],
   "source": [
    "plt.plot(history.history['loss'])\n",
    "plt.plot(history.history['val_loss'])\n",
    "plt.xlabel('epoch')\n",
    "plt.ylabel('loss')\n",
    "plt.legend(['train', 'val'])\n",
    "plt.show()"
   ]
  },
  {
   "cell_type": "markdown",
   "metadata": {
    "id": "K_U_lVie6kQa"
   },
   "source": [
    "## 단어 임베딩을 사용하기"
   ]
  },
  {
   "cell_type": "code",
   "execution_count": 26,
   "metadata": {
    "colab": {
     "base_uri": "https://localhost:8080/"
    },
    "execution": {
     "iopub.execute_input": "2020-10-12T01:30:36.795147Z",
     "iopub.status.busy": "2020-10-12T01:30:36.793959Z",
     "iopub.status.idle": "2020-10-12T01:30:37.414822Z",
     "shell.execute_reply": "2020-10-12T01:30:37.417021Z"
    },
    "id": "Ofl-Ifev6kQa",
    "outputId": "77e73122-2d97-4868-b54e-3cfc61dc8c58"
   },
   "outputs": [
    {
     "name": "stdout",
     "output_type": "stream",
     "text": [
      "Model: \"sequential_1\"\n",
      "_________________________________________________________________\n",
      "Layer (type)                 Output Shape              Param #   \n",
      "=================================================================\n",
      "embedding (Embedding)        (None, 100, 16)           8000      \n",
      "_________________________________________________________________\n",
      "simple_rnn_1 (SimpleRNN)     (None, 8)                 200       \n",
      "_________________________________________________________________\n",
      "dense_1 (Dense)              (None, 1)                 9         \n",
      "=================================================================\n",
      "Total params: 8,209\n",
      "Trainable params: 8,209\n",
      "Non-trainable params: 0\n",
      "_________________________________________________________________\n"
     ]
    }
   ],
   "source": [
    "model2 = keras.Sequential()\n",
    "\n",
    "model2.add(keras.layers.Embedding(500, 16, input_length=100))\n",
    "model2.add(keras.layers.SimpleRNN(8))\n",
    "model2.add(keras.layers.Dense(1, activation='sigmoid'))\n",
    "\n",
    "model2.summary()"
   ]
  },
  {
   "cell_type": "code",
   "execution_count": 27,
   "metadata": {
    "colab": {
     "base_uri": "https://localhost:8080/"
    },
    "execution": {
     "iopub.execute_input": "2020-10-12T01:30:37.439013Z",
     "iopub.status.busy": "2020-10-12T01:30:37.437655Z",
     "iopub.status.idle": "2020-10-12T01:40:38.584921Z",
     "shell.execute_reply": "2020-10-12T01:40:38.586340Z"
    },
    "id": "78TUrJAs6kQa",
    "outputId": "ea80b43f-45ab-494a-f570-0c6ed02e0d00"
   },
   "outputs": [
    {
     "name": "stdout",
     "output_type": "stream",
     "text": [
      "WARNING:tensorflow:Model was constructed with shape (None, 100) for input KerasTensor(type_spec=TensorSpec(shape=(None, 100), dtype=tf.float32, name='embedding_input'), name='embedding_input', description=\"created by layer 'embedding_input'\"), but it was called on an input with incompatible shape (None, 10).\n",
      "WARNING:tensorflow:Model was constructed with shape (None, 100) for input KerasTensor(type_spec=TensorSpec(shape=(None, 100), dtype=tf.float32, name='embedding_input'), name='embedding_input', description=\"created by layer 'embedding_input'\"), but it was called on an input with incompatible shape (None, 10).\n",
      "313/313 [==============================] - 12s 37ms/step - loss: 0.6926 - accuracy: 0.5220 - val_loss: 0.6838 - val_accuracy: 0.5584\n"
     ]
    }
   ],
   "source": [
    "rmsprop = keras.optimizers.RMSprop(learning_rate=1e-4)\n",
    "model2.compile(optimizer=rmsprop, loss='binary_crossentropy', \n",
    "               metrics=['accuracy'])\n",
    "\n",
    "checkpoint_cb = keras.callbacks.ModelCheckpoint('best-embedding-model.h5', \n",
    "                                                save_best_only=True)\n",
    "early_stopping_cb = keras.callbacks.EarlyStopping(patience=3,\n",
    "                                                  restore_best_weights=True)\n",
    "\n",
    "history = model2.fit(train_seq, train_target, epochs=1, batch_size=64,\n",
    "                     validation_data=(val_seq, val_target),\n",
    "                     callbacks=[checkpoint_cb, early_stopping_cb])"
   ]
  },
  {
   "cell_type": "code",
   "execution_count": 28,
   "metadata": {
    "colab": {
     "base_uri": "https://localhost:8080/",
     "height": 279
    },
    "execution": {
     "iopub.execute_input": "2020-10-12T01:40:38.604725Z",
     "iopub.status.busy": "2020-10-12T01:40:38.602954Z",
     "iopub.status.idle": "2020-10-12T01:40:39.220316Z",
     "shell.execute_reply": "2020-10-12T01:40:39.221611Z"
    },
    "id": "brUvKwLt6kQb",
    "outputId": "6e5511b7-ddea-430a-dfeb-2851d932f1bb"
   },
   "outputs": [
    {
     "data": {
      "image/png": "[encoded data removed]",
      "text/plain": [
       "<Figure size 432x288 with 1 Axes>"
      ]
     },
     "metadata": {
      "needs_background": "light"
     },
     "output_type": "display_data"
    }
   ],
   "source": [
    "plt.plot(history.history['loss'])\n",
    "plt.plot(history.history['val_loss'])\n",
    "plt.xlabel('epoch')\n",
    "plt.ylabel('loss')\n",
    "plt.legend(['train', 'val'])\n",
    "plt.show()"
   ]
  }
 ],
 "metadata": {
  "accelerator": "GPU",
  "colab": {
   "name": "9-2.ipynb",
   "provenance": []
  },
  "kernelspec": {
   "display_name": "Python 3 (ipykernel)",
   "language": "python",
   "name": "python3"
  },
  "language_info": {
   "codemirror_mode": {
    "name": "ipython",
    "version": 3
   },
   "file_extension": ".py",
   "mimetype": "text/x-python",
   "name": "python",
   "nbconvert_exporter": "python",
   "pygments_lexer": "ipython3",
   "version": "3.8.8"
  }
 },
 "nbformat": 4,
 "nbformat_minor": 1
}

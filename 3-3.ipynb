{
 "cells": [
  {
   "cell_type": "markdown",
   "source": [
    "# 특성 공학과 규제"
   ],
   "metadata": {
    "id": "XjTc5n2flYUu"
   }
  },
  {
   "cell_type": "markdown",
   "source": [
    "<table align=\"left\">\n",
    "  <td>\n",
    "    <a target=\"_blank\" href=\"https://colab.research.google.com/github/rickiepark/hg-mldl/blob/master/3-3.ipynb\"><img src=\"https://www.tensorflow.org/images/colab_logo_32px.png\" />구글 코랩에서 실행하기</a>\n",
    "  </td>\n",
    "</table>"
   ],
   "metadata": {
    "id": "B8YOr2hElYUv"
   }
  },
  {
   "cell_type": "markdown",
   "source": [
    "## 데이터 준비"
   ],
   "metadata": {
    "id": "fZwhQU2l8tI6"
   }
  },
  {
   "cell_type": "code",
   "execution_count": 1,
   "source": [
    "import pandas as pd"
   ],
   "outputs": [],
   "metadata": {
    "id": "3kjaTfOqEVwY"
   }
  },
  {
   "cell_type": "code",
   "execution_count": 2,
   "source": [
    "df = pd.read_csv('https://bit.ly/perch_csv_data')\n",
    "perch_full = df.to_numpy()\n",
    "print(perch_full)"
   ],
   "outputs": [
    {
     "output_type": "stream",
     "name": "stdout",
     "text": [
      "[[ 8.4   2.11  1.41]\n",
      " [13.7   3.53  2.  ]\n",
      " [15.    3.82  2.43]\n",
      " [16.2   4.59  2.63]\n",
      " [17.4   4.59  2.94]\n",
      " [18.    5.22  3.32]\n",
      " [18.7   5.2   3.12]\n",
      " [19.    5.64  3.05]\n",
      " [19.6   5.14  3.04]\n",
      " [20.    5.08  2.77]\n",
      " [21.    5.69  3.56]\n",
      " [21.    5.92  3.31]\n",
      " [21.    5.69  3.67]\n",
      " [21.3   6.38  3.53]\n",
      " [22.    6.11  3.41]\n",
      " [22.    5.64  3.52]\n",
      " [22.    6.11  3.52]\n",
      " [22.    5.88  3.52]\n",
      " [22.    5.52  4.  ]\n",
      " [22.5   5.86  3.62]\n",
      " [22.5   6.79  3.62]\n",
      " [22.7   5.95  3.63]\n",
      " [23.    5.22  3.63]\n",
      " [23.5   6.28  3.72]\n",
      " [24.    7.29  3.72]\n",
      " [24.    6.38  3.82]\n",
      " [24.6   6.73  4.17]\n",
      " [25.    6.44  3.68]\n",
      " [25.6   6.56  4.24]\n",
      " [26.5   7.17  4.14]\n",
      " [27.3   8.32  5.14]\n",
      " [27.5   7.17  4.34]\n",
      " [27.5   7.05  4.34]\n",
      " [27.5   7.28  4.57]\n",
      " [28.    7.82  4.2 ]\n",
      " [28.7   7.59  4.64]\n",
      " [30.    7.62  4.77]\n",
      " [32.8  10.03  6.02]\n",
      " [34.5  10.26  6.39]\n",
      " [35.   11.49  7.8 ]\n",
      " [36.5  10.88  6.86]\n",
      " [36.   10.61  6.74]\n",
      " [37.   10.84  6.26]\n",
      " [37.   10.57  6.37]\n",
      " [39.   11.14  7.49]\n",
      " [39.   11.14  6.  ]\n",
      " [39.   12.43  7.35]\n",
      " [40.   11.93  7.11]\n",
      " [40.   11.73  7.22]\n",
      " [40.   12.38  7.46]\n",
      " [40.   11.14  6.63]\n",
      " [42.   12.8   6.87]\n",
      " [43.   11.93  7.28]\n",
      " [43.   12.51  7.42]\n",
      " [43.5  12.6   8.14]\n",
      " [44.   12.49  7.6 ]]\n"
     ]
    }
   ],
   "metadata": {
    "colab": {
     "base_uri": "https://localhost:8080/"
    },
    "id": "8qmTS1RzKRKT",
    "outputId": "25aa3409-3306-4751-fba7-bd3bcc9e3cad"
   }
  },
  {
   "cell_type": "code",
   "execution_count": 3,
   "source": [
    "import numpy as np\n",
    "\n",
    "perch_weight = np.array(\n",
    "    [5.9, 32.0, 40.0, 51.5, 70.0, 100.0, 78.0, 80.0, 85.0, 85.0, \n",
    "     110.0, 115.0, 125.0, 130.0, 120.0, 120.0, 130.0, 135.0, 110.0, \n",
    "     130.0, 150.0, 145.0, 150.0, 170.0, 225.0, 145.0, 188.0, 180.0, \n",
    "     197.0, 218.0, 300.0, 260.0, 265.0, 250.0, 250.0, 300.0, 320.0, \n",
    "     514.0, 556.0, 840.0, 685.0, 700.0, 700.0, 690.0, 900.0, 650.0, \n",
    "     820.0, 850.0, 900.0, 1015.0, 820.0, 1100.0, 1000.0, 1100.0, \n",
    "     1000.0, 1000.0]\n",
    "     )"
   ],
   "outputs": [],
   "metadata": {
    "id": "PsRC7rvE9SbL"
   }
  },
  {
   "cell_type": "code",
   "execution_count": 4,
   "source": [
    "from sklearn.model_selection import train_test_split\n",
    "\n",
    "train_input, test_input, train_target, test_target = train_test_split(perch_full, perch_weight, random_state=42)"
   ],
   "outputs": [],
   "metadata": {
    "id": "cRKkoWoZ9J0m"
   }
  },
  {
   "cell_type": "markdown",
   "source": [
    "## 사이킷런의 변환기"
   ],
   "metadata": {
    "id": "y5uMFE_8V1tx"
   }
  },
  {
   "cell_type": "code",
   "execution_count": 5,
   "source": [
    "from sklearn.preprocessing import PolynomialFeatures"
   ],
   "outputs": [],
   "metadata": {
    "id": "EclugdXmSs-L"
   }
  },
  {
   "cell_type": "code",
   "execution_count": 6,
   "source": [
    "poly = PolynomialFeatures()\r\n",
    "poly.fit([[2, 3]])\r\n",
    "print(poly.transform([[2, 3]]))"
   ],
   "outputs": [
    {
     "output_type": "stream",
     "name": "stdout",
     "text": [
      "[[1. 2. 3. 4. 6. 9.]]\n"
     ]
    }
   ],
   "metadata": {
    "colab": {
     "base_uri": "https://localhost:8080/"
    },
    "id": "V5is7cZhKbPU",
    "outputId": "51fa6feb-30d4-4c7e-b89d-a2ec8033834b"
   }
  },
  {
   "cell_type": "code",
   "execution_count": 7,
   "source": [
    "poly = PolynomialFeatures(include_bias=False)\r\n",
    "poly.fit([[2, 3]])\r\n",
    "print(poly.transform([[2, 3]]))"
   ],
   "outputs": [
    {
     "output_type": "stream",
     "name": "stdout",
     "text": [
      "[[2. 3. 4. 6. 9.]]\n"
     ]
    }
   ],
   "metadata": {
    "colab": {
     "base_uri": "https://localhost:8080/"
    },
    "id": "bKXkK0oJc4nG",
    "outputId": "298cbbc5-33f8-4957-a7b5-d8eb2b44b2b7"
   }
  },
  {
   "cell_type": "code",
   "execution_count": 8,
   "source": [
    "poly = PolynomialFeatures(include_bias=False)\r\n",
    "\r\n",
    "poly.fit(train_input)\r\n",
    "train_poly = poly.transform(train_input)"
   ],
   "outputs": [],
   "metadata": {
    "id": "__kE6eJdNZfm"
   }
  },
  {
   "cell_type": "code",
   "execution_count": 9,
   "source": [
    "print(train_poly.shape)"
   ],
   "outputs": [
    {
     "output_type": "stream",
     "name": "stdout",
     "text": [
      "(42, 9)\n"
     ]
    }
   ],
   "metadata": {
    "colab": {
     "base_uri": "https://localhost:8080/"
    },
    "id": "2a_lmkKle4kF",
    "outputId": "e277109c-dc79-49c3-bca2-bd32a19d2ebb"
   }
  },
  {
   "cell_type": "code",
   "execution_count": 10,
   "source": [
    "poly.get_feature_names()"
   ],
   "outputs": [
    {
     "output_type": "execute_result",
     "data": {
      "text/plain": [
       "['x0', 'x1', 'x2', 'x0^2', 'x0 x1', 'x0 x2', 'x1^2', 'x1 x2', 'x2^2']"
      ]
     },
     "metadata": {},
     "execution_count": 10
    }
   ],
   "metadata": {
    "colab": {
     "base_uri": "https://localhost:8080/"
    },
    "id": "X6GUwfXTfKbl",
    "outputId": "d733cfd1-e13e-4652-ec50-48ffd0f90034"
   }
  },
  {
   "cell_type": "code",
   "execution_count": 11,
   "source": [
    "test_poly = poly.transform(test_input)"
   ],
   "outputs": [],
   "metadata": {
    "id": "DJMPxe2mgbOo"
   }
  },
  {
   "cell_type": "markdown",
   "source": [
    "## 다중 회귀 모델 훈련하기"
   ],
   "metadata": {
    "id": "PdDAslHzNk3H"
   }
  },
  {
   "cell_type": "code",
   "execution_count": 12,
   "source": [
    "from sklearn.linear_model import LinearRegression\r\n",
    "\r\n",
    "lr = LinearRegression()\r\n",
    "lr.fit(train_poly, train_target)\r\n",
    "print(lr.score(train_poly, train_target))"
   ],
   "outputs": [
    {
     "output_type": "stream",
     "name": "stdout",
     "text": [
      "0.9903183436982125\n"
     ]
    }
   ],
   "metadata": {
    "colab": {
     "base_uri": "https://localhost:8080/"
    },
    "id": "E9ygy-8WOvIP",
    "outputId": "5c2bdda2-f603-4c50-e94a-2f196ab7b793"
   }
  },
  {
   "cell_type": "code",
   "execution_count": 13,
   "source": [
    "print(lr.score(test_poly, test_target))"
   ],
   "outputs": [
    {
     "output_type": "stream",
     "name": "stdout",
     "text": [
      "0.9714559911594155\n"
     ]
    }
   ],
   "metadata": {
    "colab": {
     "base_uri": "https://localhost:8080/"
    },
    "id": "GKKyfFcAd7zm",
    "outputId": "4ee7e6ea-7126-4941-ac5f-c39575ac8642"
   }
  },
  {
   "cell_type": "code",
   "execution_count": 14,
   "source": [
    "poly = PolynomialFeatures(degree=5, include_bias=False)\r\n",
    "\r\n",
    "poly.fit(train_input)\r\n",
    "train_poly = poly.transform(train_input)\r\n",
    "test_poly = poly.transform(test_input)"
   ],
   "outputs": [],
   "metadata": {
    "id": "2fDt5mrReMwU"
   }
  },
  {
   "cell_type": "code",
   "execution_count": 15,
   "source": [
    "print(train_poly.shape)"
   ],
   "outputs": [
    {
     "output_type": "stream",
     "name": "stdout",
     "text": [
      "(42, 55)\n"
     ]
    }
   ],
   "metadata": {
    "colab": {
     "base_uri": "https://localhost:8080/"
    },
    "id": "hcM8R4VHSzR8",
    "outputId": "e00c0862-0252-4969-98e5-7f71c540aaa4"
   }
  },
  {
   "cell_type": "code",
   "execution_count": 16,
   "source": [
    "lr.fit(train_poly, train_target)\r\n",
    "print(lr.score(train_poly, train_target))"
   ],
   "outputs": [
    {
     "output_type": "stream",
     "name": "stdout",
     "text": [
      "0.9999999999938143\n"
     ]
    }
   ],
   "metadata": {
    "colab": {
     "base_uri": "https://localhost:8080/"
    },
    "id": "UffVFVTGP8xj",
    "outputId": "1ed2680b-460d-4e94-c2a4-9dfa498e9127"
   }
  },
  {
   "cell_type": "code",
   "execution_count": 17,
   "source": [
    "print(lr.score(test_poly, test_target))"
   ],
   "outputs": [
    {
     "output_type": "stream",
     "name": "stdout",
     "text": [
      "-144.40744532797535\n"
     ]
    }
   ],
   "metadata": {
    "colab": {
     "base_uri": "https://localhost:8080/"
    },
    "id": "GtITdlYFg7AY",
    "outputId": "32e51885-a743-4c29-b1fb-aa55ae744fc1"
   }
  },
  {
   "cell_type": "markdown",
   "source": [
    "## 규제"
   ],
   "metadata": {
    "id": "K2YMPSelQBpO"
   }
  },
  {
   "cell_type": "code",
   "execution_count": 18,
   "source": [
    "from sklearn.preprocessing import StandardScaler\r\n",
    "\r\n",
    "ss = StandardScaler()\r\n",
    "ss.fit(train_poly)\r\n",
    "\r\n",
    "train_scaled = ss.transform(train_poly)\r\n",
    "test_scaled = ss.transform(test_poly)"
   ],
   "outputs": [],
   "metadata": {
    "id": "hCC7wKy3QQrE"
   }
  },
  {
   "cell_type": "markdown",
   "source": [
    "## 릿지"
   ],
   "metadata": {
    "id": "qyLI7JQsJ7RQ"
   }
  },
  {
   "cell_type": "code",
   "execution_count": 19,
   "source": [
    "from sklearn.linear_model import Ridge\r\n",
    "\r\n",
    "ridge = Ridge()\r\n",
    "ridge.fit(train_scaled, train_target)\r\n",
    "print(ridge.score(train_scaled, train_target))"
   ],
   "outputs": [
    {
     "output_type": "stream",
     "name": "stdout",
     "text": [
      "0.9896101671037343\n"
     ]
    }
   ],
   "metadata": {
    "colab": {
     "base_uri": "https://localhost:8080/"
    },
    "id": "LdNuDNQGQipv",
    "outputId": "7fd4652c-5c7b-40de-bd84-c4f97319da28"
   }
  },
  {
   "cell_type": "code",
   "execution_count": 20,
   "source": [
    "print(ridge.score(test_scaled, test_target))"
   ],
   "outputs": [
    {
     "output_type": "stream",
     "name": "stdout",
     "text": [
      "0.9790693977615386\n"
     ]
    }
   ],
   "metadata": {
    "colab": {
     "base_uri": "https://localhost:8080/"
    },
    "id": "p5mXLecwhdnF",
    "outputId": "d7c988da-0421-4b7c-e8a0-90e107a0be53"
   }
  },
  {
   "cell_type": "code",
   "execution_count": 21,
   "source": [
    "import matplotlib.pyplot as plt\r\n",
    "\r\n",
    "train_score = []\r\n",
    "test_score = []"
   ],
   "outputs": [],
   "metadata": {
    "id": "wXd3_Kq6hlbM"
   }
  },
  {
   "cell_type": "code",
   "execution_count": 22,
   "source": [
    "alpha_list = [0.001, 0.01, 0.1, 1, 10, 100]\r\n",
    "for alpha in alpha_list:\r\n",
    "    # 릿지 모델을 만듭니다\r\n",
    "    ridge = Ridge(alpha=alpha)\r\n",
    "    # 릿지 모델을 훈련합니다\r\n",
    "    ridge.fit(train_scaled, train_target)\r\n",
    "    # 훈련 점수와 테스트 점수를 저장합니다\r\n",
    "    train_score.append(ridge.score(train_scaled, train_target))\r\n",
    "    test_score.append(ridge.score(test_scaled, test_target))"
   ],
   "outputs": [],
   "metadata": {
    "id": "9MvIvQOrhfqC"
   }
  },
  {
   "cell_type": "code",
   "execution_count": 23,
   "source": [
    "plt.plot(np.log10(alpha_list), train_score)\n",
    "plt.plot(np.log10(alpha_list), test_score)\n",
    "plt.xlabel('alpha')\n",
    "plt.ylabel('R^2')\n",
    "plt.show()"
   ],
   "outputs": [
    {
     "output_type": "display_data",
     "data": {
      "text/plain": [
       "<Figure size 432x288 with 1 Axes>"
      ],
      "image/png": "[encoded data removed]"
     },
     "metadata": {
      "needs_background": "light"
     }
    }
   ],
   "metadata": {
    "colab": {
     "base_uri": "https://localhost:8080/",
     "height": 279
    },
    "id": "95DjrJxlhiow",
    "outputId": "f4bd8050-8248-4c0d-c02b-b2f9267b4e81"
   }
  },
  {
   "cell_type": "code",
   "execution_count": 24,
   "source": [
    "ridge = Ridge(alpha=0.1)\n",
    "ridge.fit(train_scaled, train_target)\n",
    "\n",
    "print(ridge.score(train_scaled, train_target))\n",
    "print(ridge.score(test_scaled, test_target))"
   ],
   "outputs": [
    {
     "output_type": "stream",
     "name": "stdout",
     "text": [
      "0.9903815817570368\n",
      "0.9827976465386896\n"
     ]
    }
   ],
   "metadata": {
    "colab": {
     "base_uri": "https://localhost:8080/"
    },
    "id": "5S5vhi-vhjzT",
    "outputId": "42f73306-ab71-45fc-f3c2-8ce4c35c6c53"
   }
  },
  {
   "cell_type": "markdown",
   "source": [
    "## 라쏘"
   ],
   "metadata": {
    "id": "jUph9pH_KA9_"
   }
  },
  {
   "cell_type": "code",
   "execution_count": 25,
   "source": [
    "from sklearn.linear_model import Lasso\n",
    "\n",
    "lasso = Lasso()\n",
    "lasso.fit(train_scaled, train_target)\n",
    "print(lasso.score(train_scaled, train_target))"
   ],
   "outputs": [
    {
     "output_type": "stream",
     "name": "stdout",
     "text": [
      "0.989789897208096\n"
     ]
    }
   ],
   "metadata": {
    "colab": {
     "base_uri": "https://localhost:8080/"
    },
    "id": "Ymu-jmekh0IK",
    "outputId": "4d1ceb8d-0bb0-434e-b588-e36884289a48"
   }
  },
  {
   "cell_type": "code",
   "execution_count": 26,
   "source": [
    "print(lasso.score(test_scaled, test_target))"
   ],
   "outputs": [
    {
     "output_type": "stream",
     "name": "stdout",
     "text": [
      "0.9800593698421884\n"
     ]
    }
   ],
   "metadata": {
    "colab": {
     "base_uri": "https://localhost:8080/"
    },
    "id": "t3jO37UMh2iI",
    "outputId": "7ed9d19c-b9d8-4621-fc22-85ef53c5ef8c"
   }
  },
  {
   "cell_type": "code",
   "execution_count": 27,
   "source": [
    "train_score = []\n",
    "test_score = []\n",
    "\n",
    "alpha_list = [0.001, 0.01, 0.1, 1, 10, 100]\n",
    "for alpha in alpha_list:\n",
    "    # 라쏘 모델을 만듭니다\n",
    "    lasso = Lasso(alpha=alpha, max_iter=10000)\n",
    "    # 라쏘 모델을 훈련합니다\n",
    "    lasso.fit(train_scaled, train_target)\n",
    "    # 훈련 점수와 테스트 점수를 저장합니다\n",
    "    train_score.append(lasso.score(train_scaled, train_target))\n",
    "    test_score.append(lasso.score(test_scaled, test_target))"
   ],
   "outputs": [
    {
     "output_type": "stream",
     "name": "stderr",
     "text": [
      "C:\\Users\\Lee1\\AppData\\Roaming\\Python\\Python38\\site-packages\\sklearn\\linear_model\\_coordinate_descent.py:530: ConvergenceWarning: Objective did not converge. You might want to increase the number of iterations. Duality gap: 18778.697957792032, tolerance: 518.2793833333334\n",
      "  model = cd_fast.enet_coordinate_descent(\n",
      "C:\\Users\\Lee1\\AppData\\Roaming\\Python\\Python38\\site-packages\\sklearn\\linear_model\\_coordinate_descent.py:530: ConvergenceWarning: Objective did not converge. You might want to increase the number of iterations. Duality gap: 12972.821345401393, tolerance: 518.2793833333334\n",
      "  model = cd_fast.enet_coordinate_descent(\n"
     ]
    }
   ],
   "metadata": {
    "colab": {
     "base_uri": "https://localhost:8080/"
    },
    "id": "uoL2oJ6Ih4Jw",
    "outputId": "773a265f-f1c0-49d8-baf6-9e090d17b739",
    "scrolled": true
   }
  },
  {
   "cell_type": "code",
   "execution_count": 28,
   "source": [
    "plt.plot(np.log10(alpha_list), train_score)\n",
    "plt.plot(np.log10(alpha_list), test_score)\n",
    "plt.xlabel('alpha')\n",
    "plt.ylabel('R^2')\n",
    "plt.show()"
   ],
   "outputs": [
    {
     "output_type": "display_data",
     "data": {
      "text/plain": [
       "<Figure size 432x288 with 1 Axes>"
      ],
      "image/png": "[encoded data removed]"
     },
     "metadata": {
      "needs_background": "light"
     }
    }
   ],
   "metadata": {
    "colab": {
     "base_uri": "https://localhost:8080/",
     "height": 279
    },
    "id": "7rkH8Dvzh9UI",
    "outputId": "94fbac16-ff5e-4c40-c902-484109eaa862"
   }
  },
  {
   "cell_type": "code",
   "execution_count": 29,
   "source": [
    "lasso = Lasso(alpha=10)\n",
    "lasso.fit(train_scaled, train_target)\n",
    "\n",
    "print(lasso.score(train_scaled, train_target))\n",
    "print(lasso.score(test_scaled, test_target))"
   ],
   "outputs": [
    {
     "output_type": "stream",
     "name": "stdout",
     "text": [
      "0.9888067471131867\n",
      "0.9824470598706695\n"
     ]
    }
   ],
   "metadata": {
    "colab": {
     "base_uri": "https://localhost:8080/"
    },
    "id": "t4uFD9Flh_Dw",
    "outputId": "6b33f58a-e2eb-49a5-8c31-2cfba5c787c1"
   }
  },
  {
   "cell_type": "code",
   "execution_count": 30,
   "source": [
    "print(np.sum(lasso.coef_ == 0))"
   ],
   "outputs": [
    {
     "output_type": "stream",
     "name": "stdout",
     "text": [
      "40\n"
     ]
    }
   ],
   "metadata": {
    "colab": {
     "base_uri": "https://localhost:8080/"
    },
    "id": "z_bQc3s8Uoai",
    "outputId": "41abe8f0-1bfa-4fe9-b398-4164f46c0852"
   }
  }
 ],
 "metadata": {
  "colab": {
   "collapsed_sections": [],
   "name": "3-3 특성 공학과 규제.ipynb",
   "provenance": []
  },
  "kernelspec": {
   "name": "python3",
   "display_name": "Python 3.8.8 64-bit (conda)"
  },
  "language_info": {
   "codemirror_mode": {
    "name": "ipython",
    "version": 3
   },
   "file_extension": ".py",
   "mimetype": "text/x-python",
   "name": "python",
   "nbconvert_exporter": "python",
   "pygments_lexer": "ipython3",
   "version": "3.8.8"
  },
  "interpreter": {
   "hash": "b52688e825a6bfaad25548bd5a7d2c464521d66bec57a7b296eac95a2f4c95d6"
  }
 },
 "nbformat": 4,
 "nbformat_minor": 1
}